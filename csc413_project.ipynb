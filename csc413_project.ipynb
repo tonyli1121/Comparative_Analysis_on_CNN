{
  "nbformat": 4,
  "nbformat_minor": 0,
  "metadata": {
    "colab": {
      "provenance": [],
      "gpuType": "T4",
      "collapsed_sections": [
        "-UhPdqkNdiex"
      ]
    },
    "kernelspec": {
      "name": "python3",
      "display_name": "Python 3"
    },
    "language_info": {
      "name": "python"
    },
    "accelerator": "GPU",
    "gpuClass": "standard"
  },
  "cells": [
    {
      "cell_type": "markdown",
      "source": [
        "# Imports\n"
      ],
      "metadata": {
        "id": "hFCNI5sHTXtd"
      }
    },
    {
      "cell_type": "code",
      "source": [
        "# Load in relevant libraries, and alias where appropriate\n",
        "import torch\n",
        "import torch.nn as nn\n",
        "import torch.nn.functional as F\n",
        "\n",
        "# Import torchvision\n",
        "import torchvision\n",
        "from torch.utils.data import DataLoader\n",
        "from torchvision import datasets\n",
        "import torchvision.transforms as transforms\n",
        "\n",
        "# Import tf and keras for potential usage\n",
        "import tensorflow as tf\n",
        "import keras\n",
        "from tqdm import tqdm\n",
        "from torch.autograd import Variable\n",
        "\n",
        "# Import time\n",
        "import time\n",
        "\n",
        "# Import matplotlib for plotting\n",
        "import matplotlib\n",
        "import matplotlib.pyplot as plt\n",
        "\n",
        "import pandas as pd"
      ],
      "metadata": {
        "id": "4qejNsqXThtw"
      },
      "execution_count": null,
      "outputs": []
    },
    {
      "cell_type": "markdown",
      "source": [
        "# Helper Functions"
      ],
      "metadata": {
        "id": "diJsc2aUXbMC"
      }
    },
    {
      "cell_type": "markdown",
      "source": [
        "## Set Global Values"
      ],
      "metadata": {
        "id": "k5t8rUK0h-Zw"
      }
    },
    {
      "cell_type": "code",
      "source": [
        "# Architecture\n",
        "NUM_FEATURES = 32*32\n",
        "NUM_CLASSES = 10\n",
        "\n",
        "# Other\n",
        "DEVICE = \"cuda:0\"\n",
        "GRAYSCALE = False\n",
        "\n",
        "# Device will determine whether to run the training on GPU or CPU.\n",
        "device = torch.device('cuda' if torch.cuda.is_available() else 'cpu')\n",
        "\n",
        "\n",
        "# Define relevant variables for the ML task\n",
        "batch_size = 32\n",
        "num_classes = 10\n",
        "learning_rate = 0.001\n",
        "num_epochs = 10\n",
        "seed = 413\n",
        "torch.manual_seed(seed)"
      ],
      "metadata": {
        "colab": {
          "base_uri": "https://localhost:8080/"
        },
        "id": "G_LK-B9YiDU6",
        "outputId": "046a41e5-54ac-4041-8d3a-94c734de65d1"
      },
      "execution_count": null,
      "outputs": [
        {
          "output_type": "execute_result",
          "data": {
            "text/plain": [
              "<torch._C.Generator at 0x7fdb180b22b0>"
            ]
          },
          "metadata": {},
          "execution_count": 3
        }
      ]
    },
    {
      "cell_type": "markdown",
      "source": [
        "## Functions"
      ],
      "metadata": {
        "id": "vG-gI38fih5-"
      }
    },
    {
      "cell_type": "code",
      "source": [
        "# Referenced from csc413/a2\n",
        "# https://uoft-csc413.github.io/2023/assets/assignments/a2.pdf\n",
        "\n",
        "######################################################################\n",
        "# Setup working directory\n",
        "######################################################################\n",
        "%mkdir -p /content/csc413/final\n",
        "%cd /content/csc413/final\n",
        "\n",
        "######################################################################\n",
        "# Helper functions for loading data\n",
        "######################################################################\n",
        "# adapted from\n",
        "# https://github.com/fchollet/keras/blob/master/keras/datasets/cifar10.py\n",
        "\n",
        "import os\n",
        "import pickle\n",
        "import sys\n",
        "import tarfile\n",
        "\n",
        "import numpy as np\n",
        "from PIL import Image\n",
        "from six.moves.urllib.request import urlretrieve\n",
        "\n",
        "\n",
        "def load_batch(fpath, label_key=\"labels\"):\n",
        "    \"\"\"Internal utility for parsing CIFAR data.\n",
        "    # Arguments\n",
        "        fpath: path the file to parse.\n",
        "        label_key: key for label data in the retrieve\n",
        "            dictionary.\n",
        "    # Returns\n",
        "        A tuple `(data, labels)`.\n",
        "    \"\"\"\n",
        "    f = open(fpath, \"rb\")\n",
        "    if sys.version_info < (3,):\n",
        "        d = pickle.load(f)\n",
        "    else:\n",
        "        d = pickle.load(f, encoding=\"bytes\")\n",
        "        # decode utf8\n",
        "        d_decoded = {}\n",
        "        for k, v in d.items():\n",
        "            d_decoded[k.decode(\"utf8\")] = v\n",
        "        d = d_decoded\n",
        "    f.close()\n",
        "    data = d[\"data\"]\n",
        "    labels = d[label_key]\n",
        "\n",
        "    data = data.reshape(data.shape[0], 3, 32, 32)\n",
        "    return data, labels\n",
        "\n",
        "\n",
        "def get_batch(x, y, batch_size):\n",
        "    \"\"\"\n",
        "    Generated that yields batches of data\n",
        "\n",
        "    Args:\n",
        "      x: input values\n",
        "      y: output values\n",
        "      batch_size: size of each batch\n",
        "    Yields:\n",
        "      batch_x: a batch of inputs of size at most batch_size\n",
        "      batch_y: a batch of outputs of size at most batch_size\n",
        "    \"\"\"\n",
        "    N = np.shape(x)[0]\n",
        "    assert N == np.shape(y)[0]\n",
        "    for i in range(0, N, batch_size):\n",
        "        batch_x = x[i : i + batch_size, :, :, :]\n",
        "        batch_y = y[i : i + batch_size, :]\n",
        "        yield (batch_x, batch_y)\n",
        "\n",
        "\n",
        "def get_torch_vars(xs, ys, gpu=False):\n",
        "    \"\"\"\n",
        "    Helper function to convert numpy arrays to pytorch tensors.\n",
        "    If GPU is used, move the tensors to GPU.\n",
        "\n",
        "    Args:\n",
        "      xs (float numpy tenosor): greyscale input\n",
        "      ys (int numpy tenosor): categorical labels\n",
        "      gpu (bool): whether to move pytorch tensor to GPU\n",
        "    Returns:\n",
        "      Variable(xs), Variable(ys)\n",
        "    \"\"\"\n",
        "    xs = torch.from_numpy(xs).float()\n",
        "    ys = torch.from_numpy(ys).long()\n",
        "    if gpu:\n",
        "        xs = xs.cuda()\n",
        "        ys = ys.cuda()\n",
        "    return Variable(xs), Variable(ys)\n",
        "\n",
        "def get_torch_vars2(xs, ys, gpu=False):\n",
        "    \"\"\"\n",
        "    Helper function to convert numpy arrays to pytorch tensors.\n",
        "    If GPU is used, move the tensors to GPU.\n",
        "\n",
        "    Args:\n",
        "      xs (float numpy tenosor): greyscale input\n",
        "      ys (int numpy tenosor): categorical labels\n",
        "      gpu (bool): whether to move pytorch tensor to GPU\n",
        "    Returns:\n",
        "      Variable(xs), Variable(ys)\n",
        "    \"\"\"\n",
        "    if gpu:\n",
        "        xs = xs.cuda()\n",
        "        ys = ys.cuda()\n",
        "    return Variable(xs), Variable(ys)\n"
      ],
      "metadata": {
        "id": "N6cFSBVLXhOc",
        "outputId": "87a2b737-6091-47e2-bd71-4040db9aa46b",
        "colab": {
          "base_uri": "https://localhost:8080/"
        }
      },
      "execution_count": null,
      "outputs": [
        {
          "output_type": "stream",
          "name": "stdout",
          "text": [
            "/content/csc413/final\n"
          ]
        }
      ]
    },
    {
      "cell_type": "code",
      "source": [
        "def format_result(train_loss, eval_acc, eval_loss):\n",
        "\n",
        "  tr_loss = []\n",
        "  acc = []\n",
        "  ev_loss = []\n",
        "\n",
        "  for loss in train_loss:\n",
        "\n",
        "    tr_loss.append(loss.item())\n",
        "  \n",
        "  for accuracy in eval_acc:\n",
        "\n",
        "    acc.append(accuracy.item())\n",
        "  \n",
        "  new_acc = [i/100 for i in acc]\n",
        "\n",
        "  for loss in eval_loss:\n",
        "\n",
        "    ev_loss.append(loss.item())\n",
        "  \n",
        "  epoch = [i for i in range(1, num_epochs + 1)]\n",
        "\n",
        "  dic = {'epoch': epoch, 'training loss': tr_loss, 'eval accuracy': new_acc, 'eval loss': ev_loss}\n",
        "  return dic"
      ],
      "metadata": {
        "id": "gNtYGYBcgzAH"
      },
      "execution_count": null,
      "outputs": []
    },
    {
      "cell_type": "markdown",
      "source": [
        "# LeNet"
      ],
      "metadata": {
        "id": "h-nLrQgBUJmJ"
      }
    },
    {
      "cell_type": "markdown",
      "source": [
        "## TODO\n",
        "\n"
      ],
      "metadata": {
        "id": "Az7w_3eMZQ92"
      }
    },
    {
      "cell_type": "markdown",
      "source": [
        "Add test code on validation dataset"
      ],
      "metadata": {
        "id": "8oIjA51kd4_3"
      }
    },
    {
      "cell_type": "markdown",
      "source": [
        "## Define LeNet"
      ],
      "metadata": {
        "id": "46dOS6l0d5zM"
      }
    },
    {
      "cell_type": "code",
      "source": [
        "class LeNet5(nn.Module):\n",
        "    \"\"\"\n",
        "    A class defining a Convolutional Neural Network model for image classification.\n",
        "\n",
        "    Args:\n",
        "        num_classes (int): Number of classes for classification.\n",
        "\n",
        "    Attributes:\n",
        "        layer1 (nn.Sequential): First convolutional layer, consisting of a 2D convolutional operation, \n",
        "            batch normalization, ReLU activation function, and max pooling operation.\n",
        "        layer2 (nn.Sequential): Second convolutional layer, consisting of a 2D convolutional operation, \n",
        "            batch normalization, ReLU activation function, and max pooling operation.\n",
        "        fc (nn.Linear): Fully connected layer with 120 output units.\n",
        "        relu (nn.ReLU): ReLU activation function.\n",
        "        fc1 (nn.Linear): Fully connected layer with 84 output units.\n",
        "        relu1 (nn.ReLU): ReLU activation function.\n",
        "        fc2 (nn.Linear): Fully connected layer with num_classes output units.\n",
        "\n",
        "    Methods:\n",
        "        forward(x): Performs forward pass of the input through the layers of the network.\n",
        "\n",
        "    \"\"\"\n",
        "    def __init__(self, num_classes, grayscale=False):\n",
        "        \"\"\"\n",
        "        Initializes the LeNet5 model.\n",
        "\n",
        "        Args:\n",
        "            num_classes (int): Number of classes for classification.\n",
        "        \"\"\"\n",
        "        super(LeNet5, self).__init__()\n",
        "\n",
        "        self.grayscale = grayscale\n",
        "        self.num_classes = num_classes\n",
        "\n",
        "        if self.grayscale:\n",
        "            in_channels = 1\n",
        "        else:\n",
        "            in_channels = 3\n",
        "\n",
        "        self.layer1 = nn.Sequential(\n",
        "            nn.Conv2d(1*in_channels, 6*in_channels, kernel_size=5, stride=1, padding=0),\n",
        "            nn.BatchNorm2d(6*in_channels),\n",
        "            nn.ReLU(),\n",
        "            nn.MaxPool2d(kernel_size = 2, stride = 2))\n",
        "        self.layer2 = nn.Sequential(\n",
        "            nn.Conv2d(6*in_channels, 16*in_channels, kernel_size=5, stride=1, padding=0),\n",
        "            nn.BatchNorm2d(16*in_channels),\n",
        "            nn.ReLU(),\n",
        "            nn.MaxPool2d(kernel_size = 2, stride = 2))\n",
        "        self.fc = nn.Linear(400*in_channels, 120*in_channels)\n",
        "        self.relu = nn.ReLU()\n",
        "        self.fc1 = nn.Linear(120*in_channels, 84*in_channels)\n",
        "        self.relu1 = nn.ReLU()\n",
        "        self.fc2 = nn.Linear(84*in_channels, num_classes)\n",
        "        \n",
        "    def forward(self, x):\n",
        "        \"\"\"\n",
        "        Performs forward pass of the input through the layers of the network.\n",
        "\n",
        "        Args:\n",
        "            x (torch.Tensor): Input tensor of shape [batch_size, channels, height, width].\n",
        "\n",
        "        Returns:\n",
        "            torch.Tensor: Output tensor of shape [batch_size, num_classes].\n",
        "        \"\"\"\n",
        "        out = self.layer1(x)\n",
        "        out = self.layer2(out)\n",
        "        out = out.reshape(out.size(0), -1)\n",
        "        out = self.fc(out)\n",
        "        out = self.relu(out)\n",
        "        out = self.fc1(out)\n",
        "        out = self.relu1(out)\n",
        "        out = self.fc2(out)\n",
        "        return out"
      ],
      "metadata": {
        "id": "v6qpZjdMUa9U"
      },
      "execution_count": null,
      "outputs": []
    },
    {
      "cell_type": "markdown",
      "source": [
        "## LeNet Training Functions"
      ],
      "metadata": {
        "id": "3a_fNhgR-t2P"
      }
    },
    {
      "cell_type": "code",
      "source": [
        "def compute_accuracy(model, data_loader, device):\n",
        "    \"\"\" Return the evaluation accuracy and loss\n",
        "    \"\"\"\n",
        "    correct_pred, num_examples = 0, 0\n",
        "    losses = []\n",
        "    for features, targets in tqdm(data_loader, desc=\"Evaluation\"):\n",
        "            \n",
        "        features = features.to(DEVICE)\n",
        "        targets = targets.to(DEVICE)\n",
        "        #targets = get_torch_vars2(features, targets, gpu=True if device==torch.device('cuda') else False)\n",
        "\n",
        "        out = model(features)\n",
        "        losses.append(F.cross_entropy(out, targets))\n",
        "        probas = F.softmax(out, dim=1)\n",
        "        _, predicted_labels = torch.max(probas, 1)\n",
        "        num_examples += targets.size(0)\n",
        "        correct_pred += (predicted_labels == targets).sum()\n",
        "    return correct_pred.float()/num_examples * 100, torch.mean(torch.tensor(losses))\n",
        "    \n",
        "\n",
        "def train(model):\n",
        "  \"\"\" Return losses and validation accuracies for every epoch (for plotting)\n",
        "  \"\"\"\n",
        "  train_dataset = datasets.CIFAR10(root='data', \n",
        "                                 train=True, \n",
        "                                 transform=transforms.ToTensor(),\n",
        "                                 download=True)\n",
        "\n",
        "  test_dataset = datasets.CIFAR10(root='data', \n",
        "                                  train=False, \n",
        "                                  transform=transforms.ToTensor())\n",
        "\n",
        "  train_loader = DataLoader(dataset=train_dataset, \n",
        "                            batch_size=batch_size, \n",
        "                            num_workers=2,\n",
        "                            shuffle=True)\n",
        "\n",
        "  test_loader = DataLoader(dataset=test_dataset, \n",
        "                          batch_size=batch_size,\n",
        "                          num_workers=2,\n",
        "                          shuffle=False)\n",
        "  start_time = time.time()\n",
        "  optimizer = torch.optim.Adam(model.parameters(), lr=LEARNING_RATE) \n",
        "\n",
        "  train_loss = []\n",
        "  eval_acc = []\n",
        "  eval_loss = []\n",
        "  for epoch in range(NUM_EPOCHS):\n",
        "      \n",
        "      model.train()\n",
        "      loss_epoch = []\n",
        "      for features, targets in tqdm(train_loader, desc=\"Training\"):\n",
        "          \n",
        "          # features, targets = get_torch_vars2(features, targets, gpu=True if device==torch.device('cuda') else False)\n",
        "          features = features.to(DEVICE)\n",
        "          targets = targets.to(DEVICE)\n",
        "              \n",
        "          ### FORWARD AND BACK PROP\n",
        "          out = model(features)\n",
        "          probas = F.softmax(out, dim=1)\n",
        "          loss = F.cross_entropy(out, targets)\n",
        "          loss_epoch.append(loss)\n",
        "          optimizer.zero_grad()\n",
        "          \n",
        "          loss.backward()\n",
        "          \n",
        "          ### UPDATE MODEL PARAMETERS\n",
        "          optimizer.step()\n",
        "          \n",
        "      ### LOGGING\n",
        "      avg_loss_epoch = torch.mean(torch.tensor(loss_epoch))\n",
        "      train_loss.append(avg_loss_epoch)\n",
        "      print('Epoch: %03d/%03d | Train Loss: %.4f' \n",
        "              %(epoch+1, NUM_EPOCHS, avg_loss_epoch))\n",
        "\n",
        "          \n",
        "\n",
        "      model.eval()\n",
        "      with torch.set_grad_enabled(False): # save memory during inference\n",
        "          acc, loss = compute_accuracy(model, test_loader, device=DEVICE)\n",
        "      eval_acc.append(acc)\n",
        "      eval_loss.append(loss)\n",
        "      print('Epoch: %03d/%03d | Eval Acc: %.3f%% | Eval Loss: %.4f' % (\n",
        "              epoch+1, NUM_EPOCHS, acc, loss))\n",
        "          \n",
        "      print('Time elapsed: %.2f min' % ((time.time() - start_time)/60))\n",
        "      \n",
        "  print('Total Training Time: %.2f min' % ((time.time() - start_time)/60))\n",
        "\n",
        "  # SAVE MODEL\n",
        "  torch.save(model.state_dict(), 'data/lenet_model')\n",
        "\n",
        "  return train_loss, eval_acc, eval_loss"
      ],
      "metadata": {
        "id": "2G3gVkBS1-ur"
      },
      "execution_count": null,
      "outputs": []
    },
    {
      "cell_type": "markdown",
      "source": [
        "# AlexNet"
      ],
      "metadata": {
        "id": "QxuJv-vbUcpo"
      }
    },
    {
      "cell_type": "markdown",
      "source": [
        "https://www.researchgate.net/figure/Classical-CNN-Architectures-LeNet-and-AlexNet-used-to-outperform-the-state-of-the-art_fig1_351333148\n",
        "\n",
        "We defined the code for **AlexNet** as below. The model is a convolutional neural network and takes 3-channel input images. The model architecture consists of 5 convolutional layers and 3 fully connected layers.\n",
        "\n",
        "The first convolutional layer has 96 output channels and a kernel size of 11x11 with a stride of 4 and no padding. This is followed by batch normalization, ReLU activation, and max-pooling with a kernel size of 3x3 and a stride of 2.\n",
        "\n",
        "The second convolutional layer has 256 output channels and a kernel size of 5x5 with a stride of 1 and padding of 2. This is also followed by batch normalization, ReLU activation, and max-pooling with a kernel size of 3x3 and a stride of 2.\n",
        "\n",
        "The third, fourth, and fifth convolutional layers have 384, 384, and 256 output channels, respectively. They all have a kernel size of 3x3 with a stride of 1 and padding of 1, and are followed by batch normalization and ReLU activation. The fifth convolutional layer is followed by max-pooling with a kernel size of 3x3 and a stride of 2.\n",
        "\n",
        "The flattened output from the fifth convolutional layer is fed into two fully connected layers with 4096 output units each, followed by ReLU activation and dropout regularization with a probability of 0.5. The final fully connected layer has a number of output units equal to the number of classes in the dataset, which is specified as an argument to the constructor."
      ],
      "metadata": {
        "id": "Ke14YpDTZpLW"
      }
    },
    {
      "cell_type": "markdown",
      "source": [
        "## TODO\n",
        "\n"
      ],
      "metadata": {
        "id": "hneo-sA5g_hK"
      }
    },
    {
      "cell_type": "markdown",
      "source": [
        "Add test code on validation dataset"
      ],
      "metadata": {
        "id": "wwqp4azdhCud"
      }
    },
    {
      "cell_type": "markdown",
      "source": [
        "## Define AlexNet"
      ],
      "metadata": {
        "id": "SHDE_K4_d8tS"
      }
    },
    {
      "cell_type": "code",
      "source": [
        "class AlexNet(nn.Module):\n",
        "    def __init__(self, num_classes=10):\n",
        "        \"\"\"\n",
        "        AlexNet model constructor. \n",
        "        Similar methodolgy as LeNet-5, with different layer settings.\n",
        "\n",
        "        Parameters:\n",
        "            num_classes (int): Number of classes in the dataset.\n",
        "                                Default value is 10.\n",
        "        \"\"\"\n",
        "        super(AlexNet, self).__init__()\n",
        "        self.layer1 = nn.Sequential(\n",
        "            nn.Conv2d(3, 96, kernel_size=11, stride=4, padding=0),\n",
        "            nn.BatchNorm2d(96),\n",
        "            nn.ReLU(),\n",
        "            nn.MaxPool2d(kernel_size = 3, stride = 2))\n",
        "        self.layer2 = nn.Sequential(\n",
        "            nn.Conv2d(96, 256, kernel_size=5, stride=1, padding=2),\n",
        "            nn.BatchNorm2d(256),\n",
        "            nn.ReLU(),\n",
        "            nn.MaxPool2d(kernel_size = 3, stride = 2))\n",
        "        self.layer3 = nn.Sequential(\n",
        "            nn.Conv2d(256, 384, kernel_size=3, stride=1, padding=1),\n",
        "            nn.BatchNorm2d(384),\n",
        "            nn.ReLU())\n",
        "        self.layer4 = nn.Sequential(\n",
        "            nn.Conv2d(384, 384, kernel_size=3, stride=1, padding=1),\n",
        "            nn.BatchNorm2d(384),\n",
        "            nn.ReLU())\n",
        "        self.layer5 = nn.Sequential(\n",
        "            nn.Conv2d(384, 256, kernel_size=3, stride=1, padding=1),\n",
        "            nn.BatchNorm2d(256),\n",
        "            nn.ReLU(),\n",
        "            nn.MaxPool2d(kernel_size = 3, stride = 2))\n",
        "        self.fc = nn.Sequential(\n",
        "            nn.Dropout(0.5),\n",
        "            nn.Linear(9216, 4096),\n",
        "            nn.ReLU())\n",
        "        self.fc1 = nn.Sequential(\n",
        "            nn.Dropout(0.5),\n",
        "            nn.Linear(4096, 4096),\n",
        "            nn.ReLU())\n",
        "        self.fc2= nn.Sequential(\n",
        "            nn.Linear(4096, num_classes))\n",
        "        \n",
        "    def forward(self, x):\n",
        "        \"\"\"\n",
        "        Performs forward pass of the input through the layers of the network.\n",
        "\n",
        "        Args:\n",
        "            x (torch.Tensor): Input tensor of shape [batch_size, channels, height, width].\n",
        "\n",
        "        Returns:\n",
        "            torch.Tensor: Output tensor of shape [batch_size, num_classes].\n",
        "        \"\"\"\n",
        "        out = self.layer1(x)\n",
        "        out = self.layer2(out)\n",
        "        out = self.layer3(out)\n",
        "        out = self.layer4(out)\n",
        "        out = self.layer5(out)\n",
        "        out = out.reshape(out.size(0), -1)\n",
        "        out = self.fc(out)\n",
        "        out = self.fc1(out)\n",
        "        out = self.fc2(out)\n",
        "        return out"
      ],
      "metadata": {
        "id": "28NWZ-AKUeKH"
      },
      "execution_count": null,
      "outputs": []
    },
    {
      "cell_type": "markdown",
      "source": [
        "## AlexNet Training Functions\n",
        "\n",
        "It is important to notice that we need to rescale the image back to 227x227 for AlexNet to successfully proceed, following the tutorial on the [PyTorch documentation of training a classifier](https://pytorch.org/tutorials/beginner/blitz/cifar10_tutorial.html):  we are able to do it in the simplest way - download the dataset again and scale again.\n",
        "\n",
        "The dataset size is not too large, and won't cause problem in this approach, however, if we consider expanding our dataset or using any other dataset, we may need to consider scaling on the dataset only to avoid the extra cost of downloading the data."
      ],
      "metadata": {
        "id": "zK0_RbLWJpKo"
      }
    },
    {
      "cell_type": "code",
      "source": [
        "def get_AlexNet_data():\n",
        "  \"\"\"\n",
        "    Reshape AlexNet data, the size should be 227 x 227\n",
        "  \"\"\"\n",
        "  normalize = transforms.Normalize(\n",
        "    mean=[0.485, 0.456, 0.406],\n",
        "    std=[0.229, 0.224, 0.225],\n",
        "  )\n",
        "\n",
        "  # define transform\n",
        "  transform = transforms.Compose([\n",
        "    transforms.Resize((227,227)),\n",
        "    transforms.ToTensor(),\n",
        "    normalize,\n",
        "  ])\n",
        "\n",
        "  train_dataset = datasets.CIFAR10(root='data', \n",
        "                                  train=True, \n",
        "                                  transform=transform,\n",
        "                                  download=True)\n",
        "\n",
        "  test_dataset = datasets.CIFAR10(root='data', \n",
        "                                  train=False, \n",
        "                                  transform=transform)\n",
        "\n",
        "  train_loader = DataLoader(dataset=train_dataset, \n",
        "                            batch_size=batch_size, \n",
        "                            num_workers=2,\n",
        "                            shuffle=True)\n",
        "\n",
        "  test_loader = DataLoader(dataset=test_dataset, \n",
        "                          batch_size=batch_size,\n",
        "                          num_workers=2,\n",
        "                          shuffle=False)\n",
        "  return (train_dataset, test_dataset, train_loader, test_loader)\n",
        "\n",
        "(train_dataset_alex, test_dataset_alex, train_loader_alex, test_loader_alex) = get_AlexNet_data()\n",
        "\n",
        "def train_alexnet(model):\n",
        "  \"\"\" Return the train loss, evaluation accuracy and evaluation loss per epoch (for plotting)\n",
        "  \"\"\"\n",
        "  start_time = time.time()\n",
        "  optimizer = torch.optim.Adam(model.parameters(), lr=LEARNING_RATE) \n",
        "\n",
        "  train_loss = []\n",
        "  eval_acc = []\n",
        "  eval_loss = []\n",
        "  for epoch in range(NUM_EPOCHS):\n",
        "      \n",
        "      model.train()\n",
        "      epoch_losses = []\n",
        "      for features, targets in tqdm(train_loader_alex, desc=\"Training\"):\n",
        "          \n",
        "          # features, targets = get_torch_vars2(features, targets, gpu=True if device==torch.device('cuda') else False)\n",
        "          features = features.to(DEVICE)\n",
        "          targets = targets.to(DEVICE)\n",
        "              \n",
        "          ### FORWARD AND BACK PROP\n",
        "          out = model(features)\n",
        "          probas = F.softmax(out, dim=1)\n",
        "          loss = F.cross_entropy(out, targets)\n",
        "          epoch_losses.append(loss)\n",
        "          optimizer.zero_grad()\n",
        "          \n",
        "          loss.backward()\n",
        "          \n",
        "          ### UPDATE MODEL PARAMETERS\n",
        "          optimizer.step()\n",
        "          \n",
        "      ### LOGGING\n",
        "      loss_epoch = torch.mean(torch.tensor(epoch_losses))\n",
        "      train_loss.append(loss_epoch)\n",
        "      print ('Epoch: %03d/%03d | Cost: %.4f' \n",
        "                %(epoch+1, NUM_EPOCHS, loss_epoch))\n",
        "          \n",
        "\n",
        "      model.eval()\n",
        "      with torch.set_grad_enabled(False): # save memory during inference\n",
        "          acc, loss = compute_accuracy(model, test_loader_alex, device=DEVICE)\n",
        "      eval_acc.append(acc)\n",
        "      eval_loss.append(loss)\n",
        "      print('Epoch: %03d/%03d | Eval Acc: %.3f%% | Eval Loss: %.4f' % (\n",
        "              epoch+1, NUM_EPOCHS, acc, loss))\n",
        "          \n",
        "      print('Time elapsed: %.2f min' % ((time.time() - start_time)/60))\n",
        "      \n",
        "  print('Total Training Time: %.2f min' % ((time.time() - start_time)/60))\n",
        "\n",
        "  torch.save(model.state_dict(), 'data/alexnet_model')\n",
        "  \n",
        "  return train_loss, eval_acc, eval_loss"
      ],
      "metadata": {
        "id": "thCwfHzvZrSw",
        "colab": {
          "base_uri": "https://localhost:8080/"
        },
        "outputId": "a5cd80d6-cd3e-4612-8f88-97f4463663be"
      },
      "execution_count": null,
      "outputs": [
        {
          "output_type": "stream",
          "name": "stdout",
          "text": [
            "Downloading https://www.cs.toronto.edu/~kriz/cifar-10-python.tar.gz to data/cifar-10-python.tar.gz\n"
          ]
        },
        {
          "output_type": "stream",
          "name": "stderr",
          "text": [
            "100%|██████████| 170498071/170498071 [00:02<00:00, 74195772.30it/s]\n"
          ]
        },
        {
          "output_type": "stream",
          "name": "stdout",
          "text": [
            "Extracting data/cifar-10-python.tar.gz to data\n"
          ]
        }
      ]
    },
    {
      "cell_type": "markdown",
      "source": [
        "# Compare LeNet vs. AlexNet"
      ],
      "metadata": {
        "id": "L-YFjDohUpwm"
      }
    },
    {
      "cell_type": "markdown",
      "source": [
        "TODO: plotting of performance (LeNet vs AlexNet)\n",
        "\n",
        "We expect to see AlexNet converge faster and converge to a higher accuracy than LeNet.\n",
        "\n",
        "What we actually see: ___"
      ],
      "metadata": {
        "id": "lQUBATAOZs0b"
      }
    },
    {
      "cell_type": "markdown",
      "source": [
        "## Hyperparameters"
      ],
      "metadata": {
        "id": "_OMUepXpi5Jg"
      }
    },
    {
      "cell_type": "code",
      "source": [
        "# Hyperparameters\n",
        "RANDOM_SEED = 413\n",
        "LEARNING_RATE = 0.001\n",
        "BATCH_SIZE = 32\n",
        "NUM_EPOCHS = 10"
      ],
      "metadata": {
        "id": "uH65YCYIi6kj"
      },
      "execution_count": null,
      "outputs": []
    },
    {
      "cell_type": "markdown",
      "source": [
        "## Training LeNet"
      ],
      "metadata": {
        "id": "-UhPdqkNdiex"
      }
    },
    {
      "cell_type": "markdown",
      "source": [
        "Only need to run once, use load models afterwards"
      ],
      "metadata": {
        "id": "N11hkmQLBseh"
      }
    },
    {
      "cell_type": "code",
      "source": [
        "model1 = LeNet5(NUM_CLASSES)\n",
        "model1.to(DEVICE)\n",
        "train_loss_lenet, eval_acc_lenet, eval_loss_lenet = train(model1)"
      ],
      "metadata": {
        "id": "xhmlCWkswhMh",
        "colab": {
          "base_uri": "https://localhost:8080/"
        },
        "outputId": "13e60f6f-c312-41bf-ba2d-0aacc3b00ec5"
      },
      "execution_count": null,
      "outputs": [
        {
          "output_type": "stream",
          "name": "stdout",
          "text": [
            "Files already downloaded and verified\n"
          ]
        },
        {
          "output_type": "stream",
          "name": "stderr",
          "text": [
            "Training: 100%|██████████| 1563/1563 [00:22<00:00, 69.40it/s] \n"
          ]
        },
        {
          "output_type": "stream",
          "name": "stdout",
          "text": [
            "Epoch: 001/010 | Train Loss: 1.3481\n"
          ]
        },
        {
          "output_type": "stream",
          "name": "stderr",
          "text": [
            "Evaluation: 100%|██████████| 313/313 [00:02<00:00, 124.86it/s]\n"
          ]
        },
        {
          "output_type": "stream",
          "name": "stdout",
          "text": [
            "Epoch: 001/010 | Eval Acc: 52.810% | Eval Loss: 1.3305\n",
            "Time elapsed: 0.42 min\n"
          ]
        },
        {
          "output_type": "stream",
          "name": "stderr",
          "text": [
            "Training: 100%|██████████| 1563/1563 [00:16<00:00, 94.31it/s]\n"
          ]
        },
        {
          "output_type": "stream",
          "name": "stdout",
          "text": [
            "Epoch: 002/010 | Train Loss: 1.0224\n"
          ]
        },
        {
          "output_type": "stream",
          "name": "stderr",
          "text": [
            "Evaluation: 100%|██████████| 313/313 [00:02<00:00, 120.83it/s]\n"
          ]
        },
        {
          "output_type": "stream",
          "name": "stdout",
          "text": [
            "Epoch: 002/010 | Eval Acc: 58.240% | Eval Loss: 1.1950\n",
            "Time elapsed: 0.74 min\n"
          ]
        },
        {
          "output_type": "stream",
          "name": "stderr",
          "text": [
            "Training: 100%|██████████| 1563/1563 [00:20<00:00, 76.67it/s]\n"
          ]
        },
        {
          "output_type": "stream",
          "name": "stdout",
          "text": [
            "Epoch: 003/010 | Train Loss: 0.8653\n"
          ]
        },
        {
          "output_type": "stream",
          "name": "stderr",
          "text": [
            "Evaluation: 100%|██████████| 313/313 [00:05<00:00, 60.25it/s]\n"
          ]
        },
        {
          "output_type": "stream",
          "name": "stdout",
          "text": [
            "Epoch: 003/010 | Eval Acc: 68.230% | Eval Loss: 0.9106\n",
            "Time elapsed: 1.17 min\n"
          ]
        },
        {
          "output_type": "stream",
          "name": "stderr",
          "text": [
            "Training: 100%|██████████| 1563/1563 [00:21<00:00, 73.55it/s]\n"
          ]
        },
        {
          "output_type": "stream",
          "name": "stdout",
          "text": [
            "Epoch: 004/010 | Train Loss: 0.7613\n"
          ]
        },
        {
          "output_type": "stream",
          "name": "stderr",
          "text": [
            "Evaluation: 100%|██████████| 313/313 [00:03<00:00, 90.64it/s] \n"
          ]
        },
        {
          "output_type": "stream",
          "name": "stdout",
          "text": [
            "Epoch: 004/010 | Eval Acc: 70.110% | Eval Loss: 0.8743\n",
            "Time elapsed: 1.58 min\n"
          ]
        },
        {
          "output_type": "stream",
          "name": "stderr",
          "text": [
            "Training: 100%|██████████| 1563/1563 [00:15<00:00, 98.67it/s] \n"
          ]
        },
        {
          "output_type": "stream",
          "name": "stdout",
          "text": [
            "Epoch: 005/010 | Train Loss: 0.6785\n"
          ]
        },
        {
          "output_type": "stream",
          "name": "stderr",
          "text": [
            "Evaluation: 100%|██████████| 313/313 [00:02<00:00, 124.16it/s]\n"
          ]
        },
        {
          "output_type": "stream",
          "name": "stdout",
          "text": [
            "Epoch: 005/010 | Eval Acc: 67.940% | Eval Loss: 0.9385\n",
            "Time elapsed: 1.89 min\n"
          ]
        },
        {
          "output_type": "stream",
          "name": "stderr",
          "text": [
            "Training: 100%|██████████| 1563/1563 [00:15<00:00, 98.69it/s] \n"
          ]
        },
        {
          "output_type": "stream",
          "name": "stdout",
          "text": [
            "Epoch: 006/010 | Train Loss: 0.6029\n"
          ]
        },
        {
          "output_type": "stream",
          "name": "stderr",
          "text": [
            "Evaluation: 100%|██████████| 313/313 [00:03<00:00, 89.66it/s] \n"
          ]
        },
        {
          "output_type": "stream",
          "name": "stdout",
          "text": [
            "Epoch: 006/010 | Eval Acc: 68.530% | Eval Loss: 0.9491\n",
            "Time elapsed: 2.21 min\n"
          ]
        },
        {
          "output_type": "stream",
          "name": "stderr",
          "text": [
            "Training: 100%|██████████| 1563/1563 [00:16<00:00, 97.51it/s] \n"
          ]
        },
        {
          "output_type": "stream",
          "name": "stdout",
          "text": [
            "Epoch: 007/010 | Train Loss: 0.5430\n"
          ]
        },
        {
          "output_type": "stream",
          "name": "stderr",
          "text": [
            "Evaluation: 100%|██████████| 313/313 [00:02<00:00, 120.79it/s]\n"
          ]
        },
        {
          "output_type": "stream",
          "name": "stdout",
          "text": [
            "Epoch: 007/010 | Eval Acc: 72.720% | Eval Loss: 0.8296\n",
            "Time elapsed: 2.52 min\n"
          ]
        },
        {
          "output_type": "stream",
          "name": "stderr",
          "text": [
            "Training: 100%|██████████| 1563/1563 [00:16<00:00, 96.89it/s] \n"
          ]
        },
        {
          "output_type": "stream",
          "name": "stdout",
          "text": [
            "Epoch: 008/010 | Train Loss: 0.4828\n"
          ]
        },
        {
          "output_type": "stream",
          "name": "stderr",
          "text": [
            "Evaluation: 100%|██████████| 313/313 [00:03<00:00, 89.16it/s] \n"
          ]
        },
        {
          "output_type": "stream",
          "name": "stdout",
          "text": [
            "Epoch: 008/010 | Eval Acc: 72.310% | Eval Loss: 0.8478\n",
            "Time elapsed: 2.85 min\n"
          ]
        },
        {
          "output_type": "stream",
          "name": "stderr",
          "text": [
            "Training: 100%|██████████| 1563/1563 [00:17<00:00, 90.98it/s] \n"
          ]
        },
        {
          "output_type": "stream",
          "name": "stdout",
          "text": [
            "Epoch: 009/010 | Train Loss: 0.4261\n"
          ]
        },
        {
          "output_type": "stream",
          "name": "stderr",
          "text": [
            "Evaluation: 100%|██████████| 313/313 [00:02<00:00, 122.35it/s]\n"
          ]
        },
        {
          "output_type": "stream",
          "name": "stdout",
          "text": [
            "Epoch: 009/010 | Eval Acc: 73.050% | Eval Loss: 0.8628\n",
            "Time elapsed: 3.18 min\n"
          ]
        },
        {
          "output_type": "stream",
          "name": "stderr",
          "text": [
            "Training: 100%|██████████| 1563/1563 [00:16<00:00, 94.78it/s]\n"
          ]
        },
        {
          "output_type": "stream",
          "name": "stdout",
          "text": [
            "Epoch: 010/010 | Train Loss: 0.3778\n"
          ]
        },
        {
          "output_type": "stream",
          "name": "stderr",
          "text": [
            "Evaluation: 100%|██████████| 313/313 [00:02<00:00, 108.56it/s]"
          ]
        },
        {
          "output_type": "stream",
          "name": "stdout",
          "text": [
            "Epoch: 010/010 | Eval Acc: 69.840% | Eval Loss: 1.0438\n",
            "Time elapsed: 3.51 min\n",
            "Total Training Time: 3.51 min\n"
          ]
        },
        {
          "output_type": "stream",
          "name": "stderr",
          "text": [
            "\n"
          ]
        }
      ]
    },
    {
      "cell_type": "markdown",
      "source": [
        "## Training AlexNet"
      ],
      "metadata": {
        "id": "SzRKF8eRdmBG"
      }
    },
    {
      "cell_type": "markdown",
      "source": [
        "Only need to run once, use load models afterwards"
      ],
      "metadata": {
        "id": "__0tN7hPB0mj"
      }
    },
    {
      "cell_type": "code",
      "source": [
        "model2 = AlexNet(NUM_CLASSES)\n",
        "model2.to(DEVICE)\n",
        "train_loss_alex, eval_acc_alex, eval_loss_alex = train_alexnet(model2)"
      ],
      "metadata": {
        "id": "Bk9ALhr4Utb5",
        "colab": {
          "base_uri": "https://localhost:8080/"
        },
        "outputId": "2eca3795-4b4f-433f-d42b-9700ff904c66"
      },
      "execution_count": null,
      "outputs": [
        {
          "metadata": {
            "tags": null
          },
          "name": "stderr",
          "output_type": "stream",
          "text": [
            "Training: 100%|██████████| 1563/1563 [01:45<00:00, 14.79it/s]\n"
          ]
        },
        {
          "metadata": {
            "tags": null
          },
          "name": "stdout",
          "output_type": "stream",
          "text": [
            "Epoch: 001/010 | Cost: 1.9802\n"
          ]
        },
        {
          "metadata": {
            "tags": null
          },
          "name": "stderr",
          "output_type": "stream",
          "text": [
            "Evaluation: 100%|██████████| 313/313 [00:17<00:00, 17.56it/s]\n"
          ]
        },
        {
          "metadata": {
            "tags": null
          },
          "name": "stdout",
          "output_type": "stream",
          "text": [
            "Epoch: 001/010 | Eval Acc: 37.750% | Eval Loss: 1.6730\n",
            "Time elapsed: 2.06 min\n"
          ]
        },
        {
          "metadata": {
            "tags": null
          },
          "name": "stderr",
          "output_type": "stream",
          "text": [
            "Training: 100%|██████████| 1563/1563 [01:47<00:00, 14.56it/s]\n"
          ]
        },
        {
          "metadata": {
            "tags": null
          },
          "name": "stdout",
          "output_type": "stream",
          "text": [
            "Epoch: 002/010 | Cost: 1.6009\n"
          ]
        },
        {
          "metadata": {
            "tags": null
          },
          "name": "stderr",
          "output_type": "stream",
          "text": [
            "Evaluation: 100%|██████████| 313/313 [00:18<00:00, 16.59it/s]\n"
          ]
        },
        {
          "metadata": {
            "tags": null
          },
          "name": "stdout",
          "output_type": "stream",
          "text": [
            "Epoch: 002/010 | Eval Acc: 52.290% | Eval Loss: 1.3962\n",
            "Time elapsed: 4.16 min\n"
          ]
        },
        {
          "metadata": {
            "tags": null
          },
          "name": "stderr",
          "output_type": "stream",
          "text": [
            "Training: 100%|██████████| 1563/1563 [01:47<00:00, 14.58it/s]\n"
          ]
        },
        {
          "metadata": {
            "tags": null
          },
          "name": "stdout",
          "output_type": "stream",
          "text": [
            "Epoch: 003/010 | Cost: 1.3200\n"
          ]
        },
        {
          "metadata": {
            "tags": null
          },
          "name": "stderr",
          "output_type": "stream",
          "text": [
            "Evaluation: 100%|██████████| 313/313 [00:19<00:00, 16.35it/s]\n"
          ]
        },
        {
          "metadata": {
            "tags": null
          },
          "name": "stdout",
          "output_type": "stream",
          "text": [
            "Epoch: 003/010 | Eval Acc: 57.120% | Eval Loss: 1.2168\n",
            "Time elapsed: 6.27 min\n"
          ]
        },
        {
          "metadata": {
            "tags": null
          },
          "name": "stderr",
          "output_type": "stream",
          "text": [
            "Training: 100%|██████████| 1563/1563 [01:45<00:00, 14.82it/s]\n"
          ]
        },
        {
          "metadata": {
            "tags": null
          },
          "name": "stdout",
          "output_type": "stream",
          "text": [
            "Epoch: 004/010 | Cost: 1.0878\n"
          ]
        },
        {
          "metadata": {
            "tags": null
          },
          "name": "stderr",
          "output_type": "stream",
          "text": [
            "Evaluation: 100%|██████████| 313/313 [00:18<00:00, 17.38it/s]\n"
          ]
        },
        {
          "metadata": {
            "tags": null
          },
          "name": "stdout",
          "output_type": "stream",
          "text": [
            "Epoch: 004/010 | Eval Acc: 67.910% | Eval Loss: 0.9612\n",
            "Time elapsed: 8.33 min\n"
          ]
        },
        {
          "metadata": {
            "tags": null
          },
          "name": "stderr",
          "output_type": "stream",
          "text": [
            "Training: 100%|██████████| 1563/1563 [02:04<00:00, 12.52it/s]\n"
          ]
        },
        {
          "metadata": {
            "tags": null
          },
          "name": "stdout",
          "output_type": "stream",
          "text": [
            "Epoch: 005/010 | Cost: 0.9139\n"
          ]
        },
        {
          "metadata": {
            "tags": null
          },
          "name": "stderr",
          "output_type": "stream",
          "text": [
            "Evaluation: 100%|██████████| 313/313 [00:19<00:00, 16.13it/s]\n"
          ]
        },
        {
          "metadata": {
            "tags": null
          },
          "name": "stdout",
          "output_type": "stream",
          "text": [
            "Epoch: 005/010 | Eval Acc: 71.580% | Eval Loss: 0.8223\n",
            "Time elapsed: 10.74 min\n"
          ]
        },
        {
          "metadata": {
            "tags": null
          },
          "name": "stderr",
          "output_type": "stream",
          "text": [
            "Training: 100%|██████████| 1563/1563 [01:47<00:00, 14.48it/s]\n"
          ]
        },
        {
          "metadata": {
            "tags": null
          },
          "name": "stdout",
          "output_type": "stream",
          "text": [
            "Epoch: 006/010 | Cost: 0.7879\n"
          ]
        },
        {
          "metadata": {
            "tags": null
          },
          "name": "stderr",
          "output_type": "stream",
          "text": [
            "Evaluation: 100%|██████████| 313/313 [00:17<00:00, 17.44it/s]\n"
          ]
        },
        {
          "metadata": {
            "tags": null
          },
          "name": "stdout",
          "output_type": "stream",
          "text": [
            "Epoch: 006/010 | Eval Acc: 76.020% | Eval Loss: 0.7104\n",
            "Time elapsed: 12.84 min\n"
          ]
        },
        {
          "metadata": {
            "tags": null
          },
          "name": "stderr",
          "output_type": "stream",
          "text": [
            "Training: 100%|██████████| 1563/1563 [01:48<00:00, 14.40it/s]\n"
          ]
        },
        {
          "metadata": {
            "tags": null
          },
          "name": "stdout",
          "output_type": "stream",
          "text": [
            "Epoch: 007/010 | Cost: 0.7042\n"
          ]
        },
        {
          "metadata": {
            "tags": null
          },
          "name": "stderr",
          "output_type": "stream",
          "text": [
            "Evaluation: 100%|██████████| 313/313 [00:18<00:00, 17.36it/s]\n"
          ]
        },
        {
          "metadata": {
            "tags": null
          },
          "name": "stdout",
          "output_type": "stream",
          "text": [
            "Epoch: 007/010 | Eval Acc: 78.530% | Eval Loss: 0.6481\n",
            "Time elapsed: 14.95 min\n"
          ]
        },
        {
          "output_type": "stream",
          "name": "stderr",
          "text": [
            "Training: 100%|██████████| 1563/1563 [01:45<00:00, 14.87it/s]\n"
          ]
        },
        {
          "output_type": "stream",
          "name": "stdout",
          "text": [
            "Epoch: 008/010 | Cost: 0.6295\n"
          ]
        },
        {
          "output_type": "stream",
          "name": "stderr",
          "text": [
            "Evaluation: 100%|██████████| 313/313 [00:18<00:00, 16.88it/s]\n"
          ]
        },
        {
          "output_type": "stream",
          "name": "stdout",
          "text": [
            "Epoch: 008/010 | Eval Acc: 78.420% | Eval Loss: 0.6202\n",
            "Time elapsed: 17.01 min\n"
          ]
        },
        {
          "output_type": "stream",
          "name": "stderr",
          "text": [
            "Training: 100%|██████████| 1563/1563 [01:44<00:00, 14.97it/s]\n"
          ]
        },
        {
          "output_type": "stream",
          "name": "stdout",
          "text": [
            "Epoch: 009/010 | Cost: 0.5702\n"
          ]
        },
        {
          "output_type": "stream",
          "name": "stderr",
          "text": [
            "Evaluation: 100%|██████████| 313/313 [00:18<00:00, 17.02it/s]\n"
          ]
        },
        {
          "output_type": "stream",
          "name": "stdout",
          "text": [
            "Epoch: 009/010 | Eval Acc: 81.250% | Eval Loss: 0.5642\n",
            "Time elapsed: 19.06 min\n"
          ]
        },
        {
          "output_type": "stream",
          "name": "stderr",
          "text": [
            "Training: 100%|██████████| 1563/1563 [01:43<00:00, 15.08it/s]\n"
          ]
        },
        {
          "output_type": "stream",
          "name": "stdout",
          "text": [
            "Epoch: 010/010 | Cost: 0.5172\n"
          ]
        },
        {
          "output_type": "stream",
          "name": "stderr",
          "text": [
            "Evaluation: 100%|██████████| 313/313 [00:18<00:00, 17.07it/s]\n"
          ]
        },
        {
          "output_type": "stream",
          "name": "stdout",
          "text": [
            "Epoch: 010/010 | Eval Acc: 79.750% | Eval Loss: 0.6043\n",
            "Time elapsed: 21.09 min\n",
            "Total Training Time: 21.09 min\n"
          ]
        }
      ]
    },
    {
      "cell_type": "code",
      "source": [
        "# [0] = train_loss, [1] = eval_acc, [2] = eval_loss\n",
        "def format_result(train_loss, eval_acc, eval_loss):\n",
        "\n",
        "  tr_loss = []\n",
        "  acc = []\n",
        "  ev_loss = []\n",
        "\n",
        "  for loss in train_loss:\n",
        "\n",
        "    tr_loss.append(loss.item())\n",
        "  \n",
        "  for accuracy in eval_acc:\n",
        "\n",
        "    acc.append(accuracy.item())\n",
        "  \n",
        "  new_acc = [i/100 for i in acc]\n",
        "\n",
        "  for loss in eval_loss:\n",
        "\n",
        "    ev_loss.append(loss.item())\n",
        "  \n",
        "  epoch = [i for i in range(1, num_epochs + 1)]\n",
        "\n",
        "  dic = {'epoch': epoch, 'training loss': tr_loss, 'eval accuracy': new_acc, 'eval loss': ev_loss}\n",
        "  return dic\n",
        "    \n",
        "\n",
        "pd.DataFrame(format_result(train_loss_lenet, eval_acc_lenet, eval_loss_lenet)).to_csv('data/lenet_performance2.csv')\n",
        "pd.DataFrame(format_result(train_loss_alex, eval_acc_alex, eval_loss_alex)).to_csv('data/alexnet_performance2.csv')"
      ],
      "metadata": {
        "id": "IIc0BH2CBHrs"
      },
      "execution_count": null,
      "outputs": []
    },
    {
      "cell_type": "markdown",
      "source": [
        "## Load Models"
      ],
      "metadata": {
        "id": "vB3TaR9JBeVE"
      }
    },
    {
      "cell_type": "markdown",
      "source": [
        "Load the saved models. Only run after there is local saved model."
      ],
      "metadata": {
        "id": "iDHn9zfLCQaR"
      }
    },
    {
      "cell_type": "code",
      "source": [
        "model1 = LeNet5(NUM_CLASSES)\n",
        "model1.load_state_dict('data/lenet_model')\n",
        "model2 = AlexNet(NUM_CLASSES)\n",
        "model2.load_state_dict('data/alexnet_model')"
      ],
      "metadata": {
        "id": "NBhgrsnIB72O",
        "outputId": "711774c6-23aa-4def-ef5b-1f7ad53f5980",
        "colab": {
          "base_uri": "https://localhost:8080/",
          "height": 347
        }
      },
      "execution_count": null,
      "outputs": [
        {
          "output_type": "error",
          "ename": "TypeError",
          "evalue": "ignored",
          "traceback": [
            "\u001b[0;31m---------------------------------------------------------------------------\u001b[0m",
            "\u001b[0;31mTypeError\u001b[0m                                 Traceback (most recent call last)",
            "\u001b[0;32m<ipython-input-21-347c915e69d3>\u001b[0m in \u001b[0;36m<cell line: 2>\u001b[0;34m()\u001b[0m\n\u001b[1;32m      1\u001b[0m \u001b[0mmodel1\u001b[0m \u001b[0;34m=\u001b[0m \u001b[0mLeNet5\u001b[0m\u001b[0;34m(\u001b[0m\u001b[0mNUM_CLASSES\u001b[0m\u001b[0;34m)\u001b[0m\u001b[0;34m\u001b[0m\u001b[0;34m\u001b[0m\u001b[0m\n\u001b[0;32m----> 2\u001b[0;31m \u001b[0mmodel1\u001b[0m\u001b[0;34m.\u001b[0m\u001b[0mload_state_dict\u001b[0m\u001b[0;34m(\u001b[0m\u001b[0;34m'data/lenet_model'\u001b[0m\u001b[0;34m)\u001b[0m\u001b[0;34m\u001b[0m\u001b[0;34m\u001b[0m\u001b[0m\n\u001b[0m\u001b[1;32m      3\u001b[0m \u001b[0mmodel2\u001b[0m \u001b[0;34m=\u001b[0m \u001b[0mAlexNet\u001b[0m\u001b[0;34m(\u001b[0m\u001b[0mNUM_CLASSES\u001b[0m\u001b[0;34m)\u001b[0m\u001b[0;34m\u001b[0m\u001b[0;34m\u001b[0m\u001b[0m\n\u001b[1;32m      4\u001b[0m \u001b[0mmodel2\u001b[0m\u001b[0;34m.\u001b[0m\u001b[0mload_state_dict\u001b[0m\u001b[0;34m(\u001b[0m\u001b[0;34m'data/alexnet_model'\u001b[0m\u001b[0;34m)\u001b[0m\u001b[0;34m\u001b[0m\u001b[0;34m\u001b[0m\u001b[0m\n",
            "\u001b[0;32m/usr/local/lib/python3.9/dist-packages/torch/nn/modules/module.py\u001b[0m in \u001b[0;36mload_state_dict\u001b[0;34m(self, state_dict, strict)\u001b[0m\n\u001b[1;32m   1992\u001b[0m         \"\"\"\n\u001b[1;32m   1993\u001b[0m         \u001b[0;32mif\u001b[0m \u001b[0;32mnot\u001b[0m \u001b[0misinstance\u001b[0m\u001b[0;34m(\u001b[0m\u001b[0mstate_dict\u001b[0m\u001b[0;34m,\u001b[0m \u001b[0mMapping\u001b[0m\u001b[0;34m)\u001b[0m\u001b[0;34m:\u001b[0m\u001b[0;34m\u001b[0m\u001b[0;34m\u001b[0m\u001b[0m\n\u001b[0;32m-> 1994\u001b[0;31m             \u001b[0;32mraise\u001b[0m \u001b[0mTypeError\u001b[0m\u001b[0;34m(\u001b[0m\u001b[0;34m\"Expected state_dict to be dict-like, got {}.\"\u001b[0m\u001b[0;34m.\u001b[0m\u001b[0mformat\u001b[0m\u001b[0;34m(\u001b[0m\u001b[0mtype\u001b[0m\u001b[0;34m(\u001b[0m\u001b[0mstate_dict\u001b[0m\u001b[0;34m)\u001b[0m\u001b[0;34m)\u001b[0m\u001b[0;34m)\u001b[0m\u001b[0;34m\u001b[0m\u001b[0;34m\u001b[0m\u001b[0m\n\u001b[0m\u001b[1;32m   1995\u001b[0m \u001b[0;34m\u001b[0m\u001b[0m\n\u001b[1;32m   1996\u001b[0m         \u001b[0mmissing_keys\u001b[0m\u001b[0;34m:\u001b[0m \u001b[0mList\u001b[0m\u001b[0;34m[\u001b[0m\u001b[0mstr\u001b[0m\u001b[0;34m]\u001b[0m \u001b[0;34m=\u001b[0m \u001b[0;34m[\u001b[0m\u001b[0;34m]\u001b[0m\u001b[0;34m\u001b[0m\u001b[0;34m\u001b[0m\u001b[0m\n",
            "\u001b[0;31mTypeError\u001b[0m: Expected state_dict to be dict-like, got <class 'str'>."
          ]
        }
      ]
    },
    {
      "cell_type": "markdown",
      "source": [
        "## Plotting"
      ],
      "metadata": {
        "id": "06hyaq-vdpfI"
      }
    },
    {
      "cell_type": "code",
      "source": [
        "import matplotlib\n",
        "import matplotlib.pyplot as plt\n",
        "\n",
        "lenet_performance = pd.read_csv('data/lenet_performance2.csv')\n",
        "\n",
        "plt.figure()\n",
        "plt.plot(lenet_performance[\"training loss\"], \"ro-\", label=\"Train\")\n",
        "plt.plot(lenet_performance[\"eval loss\"], \"go-\", label=\"Validation\")\n",
        "plt.legend()\n",
        "plt.title(\"Loss\")\n",
        "plt.xlabel(\"Epochs\")\n",
        "plt.savefig(\"data/lenet_training_curve.png\")"
      ],
      "metadata": {
        "colab": {
          "base_uri": "https://localhost:8080/",
          "height": 472
        },
        "id": "w_0-lCts07MO",
        "outputId": "f0a44bc1-2f90-4c6e-d5c8-13dea715d041"
      },
      "execution_count": null,
      "outputs": [
        {
          "output_type": "display_data",
          "data": {
            "text/plain": [
              "<Figure size 640x480 with 1 Axes>"
            ],
            "image/png": "[encoded data removed]"
          },
          "metadata": {}
        }
      ]
    },
    {
      "cell_type": "code",
      "source": [
        "plt.figure()\n",
        "plt.plot(lenet_performance[\"eval accuracy\"], \"ro-\", label=\"Validation\")\n",
        "plt.legend()\n",
        "plt.title(\"Validation Accuracy\")\n",
        "plt.xlabel(\"Epochs\")\n",
        "plt.savefig(\"data/lenet_accuracy.png\")"
      ],
      "metadata": {
        "colab": {
          "base_uri": "https://localhost:8080/",
          "height": 472
        },
        "id": "5iEBjvr0Sc_o",
        "outputId": "371ad60c-6853-4ad6-dc25-2b4a0b27c683"
      },
      "execution_count": null,
      "outputs": [
        {
          "output_type": "display_data",
          "data": {
            "text/plain": [
              "<Figure size 640x480 with 1 Axes>"
            ],
            "image/png": "[encoded data removed]"
          },
          "metadata": {}
        }
      ]
    },
    {
      "cell_type": "code",
      "source": [
        "alexnet_performance = pd.read_csv('data/alexnet_performance2.csv')\n",
        "\n",
        "plt.figure()\n",
        "plt.plot(alexnet_performance[\"training loss\"], \"ro-\", label=\"Train\")\n",
        "plt.plot(alexnet_performance[\"eval loss\"], \"go-\", label=\"Validation\")\n",
        "plt.legend()\n",
        "plt.title(\"Loss\")\n",
        "plt.xlabel(\"Epochs\")\n",
        "plt.savefig(\"data/alexnet_training_curve.png\")"
      ],
      "metadata": {
        "id": "dxGTWGpSdsGX",
        "colab": {
          "base_uri": "https://localhost:8080/",
          "height": 472
        },
        "outputId": "f24f3cd7-c8aa-41ef-d1b6-dfb91bcf5f1c"
      },
      "execution_count": null,
      "outputs": [
        {
          "output_type": "display_data",
          "data": {
            "text/plain": [
              "<Figure size 640x480 with 1 Axes>"
            ],
            "image/png": "[encoded data removed]"
          },
          "metadata": {}
        }
      ]
    },
    {
      "cell_type": "code",
      "source": [
        "plt.figure()\n",
        "plt.plot(alexnet_performance[\"eval accuracy\"], \"ro-\", label=\"Validation\")\n",
        "plt.legend()\n",
        "plt.title(\"Validation Accuracy\")\n",
        "plt.xlabel(\"Epochs\")\n",
        "plt.savefig(\"data/alexnet_accuracy.png\")"
      ],
      "metadata": {
        "id": "1wHnsnzIBi4q",
        "colab": {
          "base_uri": "https://localhost:8080/",
          "height": 472
        },
        "outputId": "c4963b13-0eec-4f32-bb3a-e48f94953ecb"
      },
      "execution_count": null,
      "outputs": [
        {
          "output_type": "display_data",
          "data": {
            "text/plain": [
              "<Figure size 640x480 with 1 Axes>"
            ],
            "image/png": "[encoded data removed]"
          },
          "metadata": {}
        }
      ]
    },
    {
      "cell_type": "markdown",
      "source": [
        "## Summary"
      ],
      "metadata": {
        "id": "QhwH8pvtdsYw"
      }
    },
    {
      "cell_type": "markdown",
      "source": [
        "Summarize the diff"
      ],
      "metadata": {
        "id": "-qAGZHnhdwLu"
      }
    },
    {
      "cell_type": "markdown",
      "source": [
        "# VGG"
      ],
      "metadata": {
        "id": "WWi4P4XCUelI"
      }
    },
    {
      "cell_type": "markdown",
      "source": [
        "## TODO"
      ],
      "metadata": {
        "id": "m7rEmjL7Z6ZL"
      }
    },
    {
      "cell_type": "markdown",
      "source": [
        "implement vgg, same as previous two\n",
        "\n",
        "then do a plotting on accuracy\n",
        "\n",
        "we expect to see the plotting to oscillate"
      ],
      "metadata": {
        "id": "mxMAZCm7eQHT"
      }
    },
    {
      "cell_type": "markdown",
      "source": [
        "## Define VGG"
      ],
      "metadata": {
        "id": "5Hbfe-B3eT1z"
      }
    },
    {
      "cell_type": "code",
      "source": [
        "# https://machinelearningmastery.com/use-pre-trained-vgg-model-classify-objects-photographs/\n",
        "from keras.applications.vgg16 import VGG16\n",
        "from keras.utils.vis_utils import plot_model\n",
        "model = VGG16(weights='imagenet')"
      ],
      "metadata": {
        "id": "6601NjA1UgnX",
        "colab": {
          "base_uri": "https://localhost:8080/"
        },
        "outputId": "8726abe1-0926-4a44-e4d6-f2d23d3694f7"
      },
      "execution_count": null,
      "outputs": [
        {
          "output_type": "stream",
          "name": "stdout",
          "text": [
            "Downloading data from https://storage.googleapis.com/tensorflow/keras-applications/vgg16/vgg16_weights_tf_dim_ordering_tf_kernels.h5\n",
            "553467096/553467096 [==============================] - 3s 0us/step\n"
          ]
        }
      ]
    },
    {
      "cell_type": "code",
      "source": [
        "# print the layer summary\n",
        "print(model.summary())"
      ],
      "metadata": {
        "id": "UWKQ91WzUiK4",
        "colab": {
          "base_uri": "https://localhost:8080/"
        },
        "outputId": "b6179f6b-d425-4ef4-97bd-92fba24e8e4a"
      },
      "execution_count": null,
      "outputs": [
        {
          "output_type": "stream",
          "name": "stdout",
          "text": [
            "Model: \"vgg16\"\n",
            "_________________________________________________________________\n",
            " Layer (type)                Output Shape              Param #   \n",
            "=================================================================\n",
            " input_1 (InputLayer)        [(None, 224, 224, 3)]     0         \n",
            "                                                                 \n",
            " block1_conv1 (Conv2D)       (None, 224, 224, 64)      1792      \n",
            "                                                                 \n",
            " block1_conv2 (Conv2D)       (None, 224, 224, 64)      36928     \n",
            "                                                                 \n",
            " block1_pool (MaxPooling2D)  (None, 112, 112, 64)      0         \n",
            "                                                                 \n",
            " block2_conv1 (Conv2D)       (None, 112, 112, 128)     73856     \n",
            "                                                                 \n",
            " block2_conv2 (Conv2D)       (None, 112, 112, 128)     147584    \n",
            "                                                                 \n",
            " block2_pool (MaxPooling2D)  (None, 56, 56, 128)       0         \n",
            "                                                                 \n",
            " block3_conv1 (Conv2D)       (None, 56, 56, 256)       295168    \n",
            "                                                                 \n",
            " block3_conv2 (Conv2D)       (None, 56, 56, 256)       590080    \n",
            "                                                                 \n",
            " block3_conv3 (Conv2D)       (None, 56, 56, 256)       590080    \n",
            "                                                                 \n",
            " block3_pool (MaxPooling2D)  (None, 28, 28, 256)       0         \n",
            "                                                                 \n",
            " block4_conv1 (Conv2D)       (None, 28, 28, 512)       1180160   \n",
            "                                                                 \n",
            " block4_conv2 (Conv2D)       (None, 28, 28, 512)       2359808   \n",
            "                                                                 \n",
            " block4_conv3 (Conv2D)       (None, 28, 28, 512)       2359808   \n",
            "                                                                 \n",
            " block4_pool (MaxPooling2D)  (None, 14, 14, 512)       0         \n",
            "                                                                 \n",
            " block5_conv1 (Conv2D)       (None, 14, 14, 512)       2359808   \n",
            "                                                                 \n",
            " block5_conv2 (Conv2D)       (None, 14, 14, 512)       2359808   \n",
            "                                                                 \n",
            " block5_conv3 (Conv2D)       (None, 14, 14, 512)       2359808   \n",
            "                                                                 \n",
            " block5_pool (MaxPooling2D)  (None, 7, 7, 512)         0         \n",
            "                                                                 \n",
            " flatten (Flatten)           (None, 25088)             0         \n",
            "                                                                 \n",
            " fc1 (Dense)                 (None, 4096)              102764544 \n",
            "                                                                 \n",
            " fc2 (Dense)                 (None, 4096)              16781312  \n",
            "                                                                 \n",
            " predictions (Dense)         (None, 1000)              4097000   \n",
            "                                                                 \n",
            "=================================================================\n",
            "Total params: 138,357,544\n",
            "Trainable params: 138,357,544\n",
            "Non-trainable params: 0\n",
            "_________________________________________________________________\n",
            "None\n"
          ]
        }
      ]
    },
    {
      "cell_type": "code",
      "source": [
        "# print a visual represntation of the layers\n",
        "plot_model(model, to_file='vgg.png')"
      ],
      "metadata": {
        "id": "v8O7x5JoUiTM",
        "colab": {
          "base_uri": "https://localhost:8080/",
          "height": 1000
        },
        "outputId": "5191efe3-a1ad-4055-ebc0-dd87f8093767"
      },
      "execution_count": null,
      "outputs": [
        {
          "output_type": "execute_result",
          "data": {
            "image/png": "[encoded data removed]",
            "text/plain": [
              "<IPython.core.display.Image object>"
            ]
          },
          "metadata": {},
          "execution_count": 13
        }
      ]
    },
    {
      "cell_type": "markdown",
      "source": [
        "## Training VGG"
      ],
      "metadata": {
        "id": "d035-nRweWS3"
      }
    },
    {
      "cell_type": "code",
      "source": [
        "# train VGG\n",
        "# get imageNet and train VGG\n",
        "def compute_accuracy(model, data_loader, device):\n",
        "    \"\"\" Return the evaluation accuracy and loss\n",
        "    \"\"\"\n",
        "    correct_pred, num_examples = 0, 0\n",
        "    losses = []\n",
        "    for features, targets in tqdm(data_loader, desc=\"Evaluation\"):\n",
        "            \n",
        "        features = features.to(DEVICE)\n",
        "        targets = targets.to(DEVICE)\n",
        "        #targets = get_torch_vars2(features, targets, gpu=True if device==torch.device('cuda') else False)\n",
        "\n",
        "        out = model(features)\n",
        "        losses.append(F.cross_entropy(out, targets))\n",
        "        probas = F.softmax(out, dim=1)\n",
        "        _, predicted_labels = torch.max(probas, 1)\n",
        "        num_examples += targets.size(0)\n",
        "        correct_pred += (predicted_labels == targets).sum()\n",
        "    return correct_pred.float()/num_examples * 100, torch.mean(torch.tensor(losses))\n",
        "    \n",
        "\n",
        "def train_vgg16(model):\n",
        "  \"\"\" Return losses and validation accuracies for every epoch (for plotting)\n",
        "  \"\"\"\n",
        "\n",
        "  transform = transforms.Compose([\n",
        "    transforms.Resize((224, 224)),\n",
        "    transforms.ToTensor(),\n",
        "    transforms.Normalize(mean=[0.485, 0.456, 0.406],\n",
        "                          std=[0.229, 0.224, 0.225])\n",
        "  ])\n",
        "\n",
        "  train_dataset = datasets.CIFAR10(root='data', \n",
        "                                 train=True, \n",
        "                                 transform=transform,\n",
        "                                 download=True)\n",
        "\n",
        "  test_dataset = datasets.CIFAR10(root='data', \n",
        "                                  train=False, \n",
        "                                  transform=transform)\n",
        "\n",
        "  train_loader = DataLoader(dataset=train_dataset, \n",
        "                            batch_size=batch_size, \n",
        "                            num_workers=2,\n",
        "                            shuffle=True)\n",
        "\n",
        "  test_loader = DataLoader(dataset=test_dataset, \n",
        "                          batch_size=batch_size,\n",
        "                          num_workers=2,\n",
        "                          shuffle=False)\n",
        "\n",
        "\n",
        "  start_time = time.time()\n",
        "  optimizer = torch.optim.Adam(model.parameters(), lr=LEARNING_RATE) \n",
        "\n",
        "  train_loss = []\n",
        "  eval_acc = []\n",
        "  eval_loss = []\n",
        "  for epoch in range(NUM_EPOCHS):\n",
        "      \n",
        "      model.train()\n",
        "      loss_epoch = []\n",
        "      for features, targets in tqdm(train_loader, desc=\"Training\"):\n",
        "          \n",
        "          # features, targets = get_torch_vars2(features, targets, gpu=True if device==torch.device('cuda') else False)\n",
        "          features = features.to(DEVICE)\n",
        "          targets = targets.to(DEVICE)\n",
        "              \n",
        "          ### FORWARD AND BACK PROP\n",
        "          out = model(features)\n",
        "          probas = F.softmax(out, dim=1)\n",
        "          loss = F.cross_entropy(out, targets)\n",
        "          loss_epoch.append(loss)\n",
        "          optimizer.zero_grad()\n",
        "          \n",
        "          loss.backward()\n",
        "          \n",
        "          ### UPDATE MODEL PARAMETERS\n",
        "          optimizer.step()\n",
        "          \n",
        "      ### LOGGING\n",
        "      avg_loss_epoch = torch.mean(torch.tensor(loss_epoch))\n",
        "      train_loss.append(avg_loss_epoch)\n",
        "      print('Epoch: %03d/%03d | Train Loss: %.4f' \n",
        "              %(epoch+1, NUM_EPOCHS, avg_loss_epoch))\n",
        "\n",
        "          \n",
        "\n",
        "      model.eval()\n",
        "      with torch.set_grad_enabled(False): # save memory during inference\n",
        "          acc, loss = compute_accuracy(model, test_loader, device=DEVICE)\n",
        "      eval_acc.append(acc)\n",
        "      eval_loss.append(loss)\n",
        "      print('Epoch: %03d/%03d | Eval Acc: %.3f%% | Eval Loss: %.4f' % (\n",
        "              epoch+1, NUM_EPOCHS, acc, loss))\n",
        "          \n",
        "      print('Time elapsed: %.2f min' % ((time.time() - start_time)/60))\n",
        "      \n",
        "  print('Total Training Time: %.2f min' % ((time.time() - start_time)/60))\n",
        "\n",
        "  # SAVE MODEL\n",
        "  torch.save(model.state_dict(), 'data/vgg16_model')\n",
        "\n",
        "  return train_loss, eval_acc, eval_loss"
      ],
      "metadata": {
        "id": "_1kAI99IeX_H"
      },
      "execution_count": null,
      "outputs": []
    },
    {
      "cell_type": "code",
      "source": [
        "from torchvision import models\n",
        "\n",
        "model = models.vgg16(pretrained=True)\n",
        "\n",
        "for param in model.parameters():\n",
        "    param.requires_grad = True\n",
        "\n",
        "model.classifier[6] = nn.Sequential(\n",
        "                      nn.Linear(4096, 512), \n",
        "                      nn.ReLU(), \n",
        "                      nn.Dropout(0.5),\n",
        "                      nn.Linear(512, NUM_CLASSES))\n",
        "\n",
        "model = model.to(DEVICE)\n",
        "\n",
        "train_loss_vgg, eval_acc_vgg, eval_loss_vgg = train_vgg16(model)"
      ],
      "metadata": {
        "colab": {
          "base_uri": "https://localhost:8080/"
        },
        "id": "TWKTrh6wWeSR",
        "outputId": "f8f1ab0c-d576-4b45-9856-efa541d2ad9a"
      },
      "execution_count": null,
      "outputs": [
        {
          "output_type": "stream",
          "name": "stderr",
          "text": [
            "/usr/local/lib/python3.9/dist-packages/torchvision/models/_utils.py:208: UserWarning: The parameter 'pretrained' is deprecated since 0.13 and may be removed in the future, please use 'weights' instead.\n",
            "  warnings.warn(\n",
            "/usr/local/lib/python3.9/dist-packages/torchvision/models/_utils.py:223: UserWarning: Arguments other than a weight enum or `None` for 'weights' are deprecated since 0.13 and may be removed in the future. The current behavior is equivalent to passing `weights=VGG16_Weights.IMAGENET1K_V1`. You can also use `weights=VGG16_Weights.DEFAULT` to get the most up-to-date weights.\n",
            "  warnings.warn(msg)\n",
            "Downloading: \"https://download.pytorch.org/models/vgg16-397923af.pth\" to /root/.cache/torch/hub/checkpoints/vgg16-397923af.pth\n",
            "100%|██████████| 528M/528M [00:16<00:00, 33.5MB/s]\n"
          ]
        },
        {
          "output_type": "stream",
          "name": "stdout",
          "text": [
            "Files already downloaded and verified\n"
          ]
        },
        {
          "output_type": "stream",
          "name": "stderr",
          "text": [
            "Training: 100%|██████████| 1563/1563 [11:31<00:00,  2.26it/s]\n"
          ]
        },
        {
          "output_type": "stream",
          "name": "stdout",
          "text": [
            "Epoch: 001/010 | Train Loss: 1.9188\n"
          ]
        },
        {
          "output_type": "stream",
          "name": "stderr",
          "text": [
            "Evaluation: 100%|██████████| 313/313 [00:44<00:00,  7.05it/s]\n"
          ]
        },
        {
          "output_type": "stream",
          "name": "stdout",
          "text": [
            "Epoch: 001/010 | Eval Acc: 32.920% | Eval Loss: 1.7425\n",
            "Time elapsed: 12.27 min\n"
          ]
        },
        {
          "output_type": "stream",
          "name": "stderr",
          "text": [
            "Training: 100%|██████████| 1563/1563 [11:29<00:00,  2.27it/s]\n"
          ]
        },
        {
          "output_type": "stream",
          "name": "stdout",
          "text": [
            "Epoch: 002/010 | Train Loss: 1.6361\n"
          ]
        },
        {
          "output_type": "stream",
          "name": "stderr",
          "text": [
            "Evaluation: 100%|██████████| 313/313 [00:44<00:00,  7.05it/s]\n"
          ]
        },
        {
          "output_type": "stream",
          "name": "stdout",
          "text": [
            "Epoch: 002/010 | Eval Acc: 47.410% | Eval Loss: 1.4305\n",
            "Time elapsed: 24.50 min\n"
          ]
        },
        {
          "output_type": "stream",
          "name": "stderr",
          "text": [
            "Training: 100%|██████████| 1563/1563 [11:28<00:00,  2.27it/s]\n"
          ]
        },
        {
          "output_type": "stream",
          "name": "stdout",
          "text": [
            "Epoch: 003/010 | Train Loss: 1.4735\n"
          ]
        },
        {
          "output_type": "stream",
          "name": "stderr",
          "text": [
            "Evaluation: 100%|██████████| 313/313 [00:44<00:00,  7.07it/s]\n"
          ]
        },
        {
          "output_type": "stream",
          "name": "stdout",
          "text": [
            "Epoch: 003/010 | Eval Acc: 53.300% | Eval Loss: 1.2935\n",
            "Time elapsed: 36.72 min\n"
          ]
        },
        {
          "output_type": "stream",
          "name": "stderr",
          "text": [
            "Training: 100%|██████████| 1563/1563 [11:27<00:00,  2.27it/s]\n"
          ]
        },
        {
          "output_type": "stream",
          "name": "stdout",
          "text": [
            "Epoch: 004/010 | Train Loss: 1.3650\n"
          ]
        },
        {
          "output_type": "stream",
          "name": "stderr",
          "text": [
            "Evaluation: 100%|██████████| 313/313 [00:44<00:00,  7.06it/s]\n"
          ]
        },
        {
          "output_type": "stream",
          "name": "stdout",
          "text": [
            "Epoch: 004/010 | Eval Acc: 53.690% | Eval Loss: 1.3016\n",
            "Time elapsed: 48.92 min\n"
          ]
        },
        {
          "output_type": "stream",
          "name": "stderr",
          "text": [
            "Training: 100%|██████████| 1563/1563 [11:27<00:00,  2.27it/s]\n"
          ]
        },
        {
          "output_type": "stream",
          "name": "stdout",
          "text": [
            "Epoch: 005/010 | Train Loss: 1.3041\n"
          ]
        },
        {
          "output_type": "stream",
          "name": "stderr",
          "text": [
            "Evaluation: 100%|██████████| 313/313 [00:44<00:00,  7.06it/s]\n"
          ]
        },
        {
          "output_type": "stream",
          "name": "stdout",
          "text": [
            "Epoch: 005/010 | Eval Acc: 56.670% | Eval Loss: 1.2174\n",
            "Time elapsed: 61.12 min\n"
          ]
        },
        {
          "output_type": "stream",
          "name": "stderr",
          "text": [
            "Training: 100%|██████████| 1563/1563 [11:27<00:00,  2.27it/s]\n"
          ]
        },
        {
          "output_type": "stream",
          "name": "stdout",
          "text": [
            "Epoch: 006/010 | Train Loss: 1.2403\n"
          ]
        },
        {
          "output_type": "stream",
          "name": "stderr",
          "text": [
            "Evaluation: 100%|██████████| 313/313 [00:44<00:00,  7.07it/s]\n"
          ]
        },
        {
          "output_type": "stream",
          "name": "stdout",
          "text": [
            "Epoch: 006/010 | Eval Acc: 58.180% | Eval Loss: 1.2048\n",
            "Time elapsed: 73.32 min\n"
          ]
        },
        {
          "output_type": "stream",
          "name": "stderr",
          "text": [
            "Training: 100%|██████████| 1563/1563 [11:27<00:00,  2.27it/s]\n"
          ]
        },
        {
          "output_type": "stream",
          "name": "stdout",
          "text": [
            "Epoch: 007/010 | Train Loss: 1.2264\n"
          ]
        },
        {
          "output_type": "stream",
          "name": "stderr",
          "text": [
            "Evaluation: 100%|██████████| 313/313 [00:44<00:00,  7.07it/s]\n"
          ]
        },
        {
          "output_type": "stream",
          "name": "stdout",
          "text": [
            "Epoch: 007/010 | Eval Acc: 59.030% | Eval Loss: 1.1835\n",
            "Time elapsed: 85.52 min\n"
          ]
        },
        {
          "output_type": "stream",
          "name": "stderr",
          "text": [
            "Training: 100%|██████████| 1563/1563 [11:27<00:00,  2.27it/s]\n"
          ]
        },
        {
          "output_type": "stream",
          "name": "stdout",
          "text": [
            "Epoch: 008/010 | Train Loss: 1.1828\n"
          ]
        },
        {
          "output_type": "stream",
          "name": "stderr",
          "text": [
            "Evaluation: 100%|██████████| 313/313 [00:44<00:00,  7.08it/s]\n"
          ]
        },
        {
          "output_type": "stream",
          "name": "stdout",
          "text": [
            "Epoch: 008/010 | Eval Acc: 60.670% | Eval Loss: 1.0978\n",
            "Time elapsed: 97.71 min\n"
          ]
        },
        {
          "output_type": "stream",
          "name": "stderr",
          "text": [
            "Training: 100%|██████████| 1563/1563 [11:26<00:00,  2.28it/s]\n"
          ]
        },
        {
          "output_type": "stream",
          "name": "stdout",
          "text": [
            "Epoch: 009/010 | Train Loss: 1.1618\n"
          ]
        },
        {
          "output_type": "stream",
          "name": "stderr",
          "text": [
            "Evaluation: 100%|██████████| 313/313 [00:44<00:00,  7.06it/s]\n"
          ]
        },
        {
          "output_type": "stream",
          "name": "stdout",
          "text": [
            "Epoch: 009/010 | Eval Acc: 61.190% | Eval Loss: 1.1296\n",
            "Time elapsed: 109.90 min\n"
          ]
        },
        {
          "output_type": "stream",
          "name": "stderr",
          "text": [
            "Training: 100%|██████████| 1563/1563 [11:26<00:00,  2.28it/s]\n"
          ]
        },
        {
          "output_type": "stream",
          "name": "stdout",
          "text": [
            "Epoch: 010/010 | Train Loss: 1.1302\n"
          ]
        },
        {
          "output_type": "stream",
          "name": "stderr",
          "text": [
            "Evaluation: 100%|██████████| 313/313 [00:44<00:00,  7.08it/s]\n"
          ]
        },
        {
          "output_type": "stream",
          "name": "stdout",
          "text": [
            "Epoch: 010/010 | Eval Acc: 60.460% | Eval Loss: 1.1398\n",
            "Time elapsed: 122.08 min\n",
            "Total Training Time: 122.08 min\n"
          ]
        }
      ]
    },
    {
      "cell_type": "code",
      "source": [
        "pd.DataFrame(format_result(train_loss_vgg, eval_acc_vgg, eval_loss_vgg)).to_csv('data/vgg_performance.csv')"
      ],
      "metadata": {
        "id": "Fsx7h0pNzxVL"
      },
      "execution_count": null,
      "outputs": []
    },
    {
      "cell_type": "markdown",
      "source": [
        "## Plotting"
      ],
      "metadata": {
        "id": "-7Si0GeIecHv"
      }
    },
    {
      "cell_type": "code",
      "source": [
        "vgg_performance = pd.read_csv('data/vgg_performance.csv')\n",
        "\n",
        "plt.figure()\n",
        "plt.plot(vgg_performance[\"training loss\"], \"ro-\", label=\"Train\")\n",
        "plt.plot(vgg_performance[\"eval loss\"], \"go-\", label=\"Validation\")\n",
        "plt.legend()\n",
        "plt.title(\"Loss\")\n",
        "plt.xlabel(\"Epochs\")\n",
        "plt.savefig(\"data/vgg_training_curve.png\")"
      ],
      "metadata": {
        "id": "099zi8nKedrQ",
        "colab": {
          "base_uri": "https://localhost:8080/",
          "height": 472
        },
        "outputId": "ca7b321f-b161-43ad-be50-7abbb9e1b812"
      },
      "execution_count": null,
      "outputs": [
        {
          "output_type": "display_data",
          "data": {
            "text/plain": [
              "<Figure size 640x480 with 1 Axes>"
            ],
            "image/png": "[encoded data removed]"
          },
          "metadata": {}
        }
      ]
    },
    {
      "cell_type": "code",
      "source": [
        "plt.figure()\n",
        "plt.plot(vgg_performance[\"eval accuracy\"], \"ro-\", label=\"Validation\")\n",
        "plt.legend()\n",
        "plt.title(\"Validation Accuracy\")\n",
        "plt.xlabel(\"Epochs\")\n",
        "plt.savefig(\"data/vgg_accuracy.png\")"
      ],
      "metadata": {
        "colab": {
          "base_uri": "https://localhost:8080/",
          "height": 472
        },
        "id": "BSSM3vv-hhxs",
        "outputId": "5ce83156-046d-4e9e-a2a2-abc7dd4ae984"
      },
      "execution_count": null,
      "outputs": [
        {
          "output_type": "display_data",
          "data": {
            "text/plain": [
              "<Figure size 640x480 with 1 Axes>"
            ],
            "image/png": "[encoded data removed]"
          },
          "metadata": {}
        }
      ]
    },
    {
      "cell_type": "markdown",
      "source": [
        "# ResNet"
      ],
      "metadata": {
        "id": "tzwVTj58Ug6C"
      }
    },
    {
      "cell_type": "markdown",
      "source": [
        "## TODO"
      ],
      "metadata": {
        "id": "Q6NLDNYeaNRE"
      }
    },
    {
      "cell_type": "markdown",
      "source": [
        "IMPLEMENT ResNet, same as previous two\n",
        "\n",
        "plot and we expect to see a very smooth curve that converge to a relatively good performance."
      ],
      "metadata": {
        "id": "XgW7ptCFejoO"
      }
    },
    {
      "cell_type": "markdown",
      "source": [
        "## Define ResNet"
      ],
      "metadata": {
        "id": "4fumYlL5emJt"
      }
    },
    {
      "cell_type": "code",
      "source": [
        "# Residual block\n",
        "class BasicBlock(nn.Module):\n",
        "    expansion = 1\n",
        "\n",
        "    def __init__(self, in_planes, planes, stride=1):\n",
        "        super(BasicBlock, self).__init__()\n",
        "\n",
        "        self.conv1 = nn.Conv2d(\n",
        "            in_planes, planes, kernel_size=3, stride=stride, padding=1, bias=False)\n",
        "        self.bn1 = nn.BatchNorm2d(planes)\n",
        "        self.conv2 = nn.Conv2d(planes, planes, kernel_size=3,\n",
        "                               stride=1, padding=1, bias=False)\n",
        "        self.bn2 = nn.BatchNorm2d(planes)\n",
        "\n",
        "        self.shortcut = nn.Sequential()\n",
        "        if stride != 1 or in_planes != self.expansion*planes:\n",
        "            self.shortcut = nn.Sequential(\n",
        "                nn.Conv2d(in_planes, self.expansion*planes,\n",
        "                          kernel_size=1, stride=stride, bias=False),\n",
        "                nn.BatchNorm2d(self.expansion*planes)\n",
        "            )\n",
        "\n",
        "    def forward(self, x):\n",
        "        out = F.relu(self.bn1(self.conv1(x)))\n",
        "        out = self.bn2(self.conv2(out))\n",
        "        out += self.shortcut(x)\n",
        "        out = F.relu(out)\n",
        "        return out\n",
        "\n",
        "\n",
        "class Bottleneck(nn.Module):\n",
        "    expansion = 4\n",
        "\n",
        "    def __init__(self, in_planes, planes, stride=1):\n",
        "        super(Bottleneck, self).__init__()\n",
        "\n",
        "        self.conv1 = nn.Conv2d(in_planes, planes, kernel_size=1, bias=False)\n",
        "        self.bn1 = nn.BatchNorm2d(planes)\n",
        "        self.conv2 = nn.Conv2d(planes, planes, kernel_size=3,\n",
        "                               stride=stride, padding=1, bias=False)\n",
        "        self.bn2 = nn.BatchNorm2d(planes)\n",
        "        self.conv3 = nn.Conv2d(planes, self.expansion *\n",
        "                               planes, kernel_size=1, bias=False)\n",
        "        self.bn3 = nn.BatchNorm2d(self.expansion*planes)\n",
        "\n",
        "        self.shortcut = nn.Sequential()\n",
        "        if stride != 1 or in_planes != self.expansion*planes:\n",
        "            self.shortcut = nn.Sequential(\n",
        "                nn.Conv2d(in_planes, self.expansion*planes,\n",
        "                          kernel_size=1, stride=stride, bias=False),\n",
        "                nn.BatchNorm2d(self.expansion*planes)\n",
        "            )\n",
        "\n",
        "    def forward(self, x):\n",
        "        out = F.relu(self.bn1(self.conv1(x)))\n",
        "        out = F.relu(self.bn2(self.conv2(out)))\n",
        "        out = self.bn3(self.conv3(out))\n",
        "        out += self.shortcut(x)\n",
        "        out = F.relu(out)\n",
        "        return out\n",
        "\n",
        "\n",
        "class ResNet(nn.Module):\n",
        "    def __init__(self, block, num_blocks, num_classes=10):\n",
        "        super(ResNet, self).__init__()\n",
        "        self.in_planes = 64\n",
        "\n",
        "        self.conv1 = nn.Conv2d(3, 64, kernel_size=3,\n",
        "                               stride=1, padding=1, bias=False)\n",
        "        self.bn1 = nn.BatchNorm2d(64)\n",
        "        self.layer1 = self._make_layer(block, 64, num_blocks[0], stride=1)\n",
        "        self.layer2 = self._make_layer(block, 128, num_blocks[1], stride=2)\n",
        "        self.layer3 = self._make_layer(block, 256, num_blocks[2], stride=2)\n",
        "        self.layer4 = self._make_layer(block, 512, num_blocks[3], stride=2)\n",
        "        self.linear = nn.Linear(512*block.expansion, num_classes)\n",
        "\n",
        "    def _make_layer(self, block, planes, num_blocks, stride):\n",
        "        strides = [stride] + [1]*(num_blocks-1)\n",
        "        layers = []\n",
        "        for stride in strides:\n",
        "            layers.append(block(self.in_planes, planes, stride))\n",
        "            self.in_planes = planes * block.expansion\n",
        "        return nn.Sequential(*layers)\n",
        "\n",
        "    def forward(self, x):\n",
        "        out = F.relu(self.bn1(self.conv1(x)))\n",
        "        out = self.layer1(out)\n",
        "        out = self.layer2(out)\n",
        "        out = self.layer3(out)\n",
        "        out = self.layer4(out)\n",
        "        out = F.avg_pool2d(out, 4)\n",
        "        out = out.view(out.size(0), -1)\n",
        "        out = self.linear(out)\n",
        "        return out\n"
      ],
      "metadata": {
        "id": "SBKw7pseUjZI"
      },
      "execution_count": null,
      "outputs": []
    },
    {
      "cell_type": "markdown",
      "source": [
        "## Training ResNet"
      ],
      "metadata": {
        "id": "IHUM063YeoiM"
      }
    },
    {
      "cell_type": "code",
      "source": [
        "# Train ResNet\n",
        "def compute_accuracy(model, data_loader, device):\n",
        "    \"\"\" Return the evaluation accuracy and loss\n",
        "    \"\"\"\n",
        "    correct_pred, num_examples = 0, 0\n",
        "    losses = []\n",
        "    for features, targets in tqdm(data_loader, desc=\"Evaluation\"):\n",
        "            \n",
        "        features = features.to(DEVICE)\n",
        "        targets = targets.to(DEVICE)\n",
        "        #targets = get_torch_vars2(features, targets, gpu=True if device==torch.device('cuda') else False)\n",
        "\n",
        "        out = model(features)\n",
        "        losses.append(F.cross_entropy(out, targets))\n",
        "        probas = F.softmax(out, dim=1)\n",
        "        _, predicted_labels = torch.max(probas, 1)\n",
        "        num_examples += targets.size(0)\n",
        "        correct_pred += (predicted_labels == targets).sum()\n",
        "    return correct_pred.float()/num_examples * 100, torch.mean(torch.tensor(losses))\n",
        "    \n",
        "\n",
        "def train_resnet(model):\n",
        "  \"\"\" Return losses and validation accuracies for every epoch (for plotting)\n",
        "  \"\"\"\n",
        "\n",
        "  # Image preprocessing modules\n",
        "  transform = transforms.Compose([\n",
        "      transforms.Pad(4),\n",
        "      transforms.RandomHorizontalFlip(),\n",
        "      transforms.RandomCrop(32),\n",
        "      transforms.ToTensor()])\n",
        "\n",
        "  train_dataset = datasets.CIFAR10(root='data', \n",
        "                                 train=True, \n",
        "                                 transform=transform,\n",
        "                                 download=True)\n",
        "\n",
        "  test_dataset = datasets.CIFAR10(root='data', \n",
        "                                  train=False, \n",
        "                                  transform=transform)\n",
        "\n",
        "  train_loader = DataLoader(dataset=train_dataset, \n",
        "                            batch_size=batch_size, \n",
        "                            num_workers=2,\n",
        "                            shuffle=True)\n",
        "\n",
        "  test_loader = DataLoader(dataset=test_dataset, \n",
        "                          batch_size=batch_size,\n",
        "                          num_workers=2,\n",
        "                          shuffle=False)\n",
        "\n",
        "\n",
        "  start_time = time.time()\n",
        "  optimizer = torch.optim.Adam(model.parameters(), lr=LEARNING_RATE) \n",
        "\n",
        "  train_loss = []\n",
        "  eval_acc = []\n",
        "  eval_loss = []\n",
        "  for epoch in range(NUM_EPOCHS):\n",
        "      \n",
        "      model.train()\n",
        "      loss_epoch = []\n",
        "      for features, targets in tqdm(train_loader, desc=\"Training\"):\n",
        "          \n",
        "          # features, targets = get_torch_vars2(features, targets, gpu=True if device==torch.device('cuda') else False)\n",
        "          features = features.to(DEVICE)\n",
        "          targets = targets.to(DEVICE)\n",
        "              \n",
        "          ### FORWARD AND BACK PROP\n",
        "          out = model(features)\n",
        "          probas = F.softmax(out, dim=1)\n",
        "          loss = F.cross_entropy(out, targets)\n",
        "          loss_epoch.append(loss)\n",
        "          optimizer.zero_grad()\n",
        "          \n",
        "          loss.backward()\n",
        "          \n",
        "          ### UPDATE MODEL PARAMETERS\n",
        "          optimizer.step()\n",
        "          \n",
        "      ### LOGGING\n",
        "      avg_loss_epoch = torch.mean(torch.tensor(loss_epoch))\n",
        "      train_loss.append(avg_loss_epoch)\n",
        "      print('Epoch: %03d/%03d | Train Loss: %.4f' \n",
        "              %(epoch+1, NUM_EPOCHS, avg_loss_epoch))\n",
        "\n",
        "          \n",
        "\n",
        "      model.eval()\n",
        "      with torch.set_grad_enabled(False): # save memory during inference\n",
        "          acc, loss = compute_accuracy(model, test_loader, device=DEVICE)\n",
        "      eval_acc.append(acc)\n",
        "      eval_loss.append(loss)\n",
        "      print('Epoch: %03d/%03d | Eval Acc: %.3f%% | Eval Loss: %.4f' % (\n",
        "              epoch+1, NUM_EPOCHS, acc, loss))\n",
        "          \n",
        "      print('Time elapsed: %.2f min' % ((time.time() - start_time)/60))\n",
        "      \n",
        "  print('Total Training Time: %.2f min' % ((time.time() - start_time)/60))\n",
        "\n",
        "  # SAVE MODEL\n",
        "  torch.save(model.state_dict(), 'data/resnet_model')\n",
        "\n",
        "  return train_loss, eval_acc, eval_loss"
      ],
      "metadata": {
        "id": "R0rv7_gMequs"
      },
      "execution_count": null,
      "outputs": []
    },
    {
      "cell_type": "code",
      "source": [
        "resnet_model = ResNet(Bottleneck, [3, 4, 6, 3]).to(device)\n",
        "train_loss_resnet, eval_acc_resnet, eval_loss_resnet = train_resnet(resnet_model)"
      ],
      "metadata": {
        "colab": {
          "base_uri": "https://localhost:8080/"
        },
        "id": "NRmvqGsqcFQc",
        "outputId": "b65e07c6-463b-4f80-9e06-a6d94035b218"
      },
      "execution_count": null,
      "outputs": [
        {
          "metadata": {
            "tags": null
          },
          "name": "stdout",
          "output_type": "stream",
          "text": [
            "Files already downloaded and verified\n"
          ]
        },
        {
          "metadata": {
            "tags": null
          },
          "name": "stderr",
          "output_type": "stream",
          "text": [
            "Training: 100%|██████████| 1563/1563 [02:55<00:00,  8.89it/s]\n"
          ]
        },
        {
          "metadata": {
            "tags": null
          },
          "name": "stdout",
          "output_type": "stream",
          "text": [
            "Epoch: 001/010 | Train Loss: 1.6529\n"
          ]
        },
        {
          "metadata": {
            "tags": null
          },
          "name": "stderr",
          "output_type": "stream",
          "text": [
            "Evaluation: 100%|██████████| 313/313 [00:10<00:00, 28.79it/s]\n"
          ]
        },
        {
          "metadata": {
            "tags": null
          },
          "name": "stdout",
          "output_type": "stream",
          "text": [
            "Epoch: 001/010 | Eval Acc: 48.890% | Eval Loss: 1.4723\n",
            "Time elapsed: 3.11 min\n"
          ]
        },
        {
          "metadata": {
            "tags": null
          },
          "name": "stderr",
          "output_type": "stream",
          "text": [
            "Training: 100%|██████████| 1563/1563 [02:55<00:00,  8.89it/s]\n"
          ]
        },
        {
          "metadata": {
            "tags": null
          },
          "name": "stdout",
          "output_type": "stream",
          "text": [
            "Epoch: 002/010 | Train Loss: 1.1935\n"
          ]
        },
        {
          "metadata": {
            "tags": null
          },
          "name": "stderr",
          "output_type": "stream",
          "text": [
            "Evaluation: 100%|██████████| 313/313 [00:09<00:00, 32.43it/s]\n"
          ]
        },
        {
          "metadata": {
            "tags": null
          },
          "name": "stdout",
          "output_type": "stream",
          "text": [
            "Epoch: 002/010 | Eval Acc: 59.060% | Eval Loss: 1.2106\n",
            "Time elapsed: 6.21 min\n"
          ]
        },
        {
          "metadata": {
            "tags": null
          },
          "name": "stderr",
          "output_type": "stream",
          "text": [
            "Training: 100%|██████████| 1563/1563 [02:55<00:00,  8.91it/s]\n"
          ]
        },
        {
          "metadata": {
            "tags": null
          },
          "name": "stdout",
          "output_type": "stream",
          "text": [
            "Epoch: 003/010 | Train Loss: 1.0088\n"
          ]
        },
        {
          "metadata": {
            "tags": null
          },
          "name": "stderr",
          "output_type": "stream",
          "text": [
            "Evaluation: 100%|██████████| 313/313 [00:09<00:00, 31.75it/s]\n"
          ]
        },
        {
          "metadata": {
            "tags": null
          },
          "name": "stdout",
          "output_type": "stream",
          "text": [
            "Epoch: 003/010 | Eval Acc: 68.860% | Eval Loss: 0.8816\n",
            "Time elapsed: 9.31 min\n"
          ]
        },
        {
          "metadata": {
            "tags": null
          },
          "name": "stderr",
          "output_type": "stream",
          "text": [
            "Training: 100%|██████████| 1563/1563 [02:54<00:00,  8.98it/s]\n"
          ]
        },
        {
          "metadata": {
            "tags": null
          },
          "name": "stdout",
          "output_type": "stream",
          "text": [
            "Epoch: 004/010 | Train Loss: 0.8648\n"
          ]
        },
        {
          "metadata": {
            "tags": null
          },
          "name": "stderr",
          "output_type": "stream",
          "text": [
            "Evaluation: 100%|██████████| 313/313 [00:09<00:00, 33.11it/s]\n"
          ]
        },
        {
          "metadata": {
            "tags": null
          },
          "name": "stdout",
          "output_type": "stream",
          "text": [
            "Epoch: 004/010 | Eval Acc: 72.890% | Eval Loss: 0.7832\n",
            "Time elapsed: 12.37 min\n"
          ]
        },
        {
          "metadata": {
            "tags": null
          },
          "name": "stderr",
          "output_type": "stream",
          "text": [
            "Training: 100%|██████████| 1563/1563 [02:53<00:00,  9.00it/s]\n"
          ]
        },
        {
          "metadata": {
            "tags": null
          },
          "name": "stdout",
          "output_type": "stream",
          "text": [
            "Epoch: 005/010 | Train Loss: 0.7531\n"
          ]
        },
        {
          "metadata": {
            "tags": null
          },
          "name": "stderr",
          "output_type": "stream",
          "text": [
            "Evaluation: 100%|██████████| 313/313 [00:09<00:00, 32.15it/s]\n"
          ]
        },
        {
          "metadata": {
            "tags": null
          },
          "name": "stdout",
          "output_type": "stream",
          "text": [
            "Epoch: 005/010 | Eval Acc: 74.070% | Eval Loss: 0.7604\n",
            "Time elapsed: 15.43 min\n"
          ]
        },
        {
          "metadata": {
            "tags": null
          },
          "name": "stderr",
          "output_type": "stream",
          "text": [
            "Training: 100%|██████████| 1563/1563 [02:53<00:00,  9.00it/s]\n"
          ]
        },
        {
          "metadata": {
            "tags": null
          },
          "name": "stdout",
          "output_type": "stream",
          "text": [
            "Epoch: 006/010 | Train Loss: 0.6726\n"
          ]
        },
        {
          "metadata": {
            "tags": null
          },
          "name": "stderr",
          "output_type": "stream",
          "text": [
            "Evaluation: 100%|██████████| 313/313 [00:09<00:00, 33.34it/s]\n"
          ]
        },
        {
          "metadata": {
            "tags": null
          },
          "name": "stdout",
          "output_type": "stream",
          "text": [
            "Epoch: 006/010 | Eval Acc: 77.430% | Eval Loss: 0.6534\n",
            "Time elapsed: 18.49 min\n"
          ]
        },
        {
          "metadata": {
            "tags": null
          },
          "name": "stderr",
          "output_type": "stream",
          "text": [
            "Training: 100%|██████████| 1563/1563 [02:53<00:00,  9.00it/s]\n"
          ]
        },
        {
          "metadata": {
            "tags": null
          },
          "name": "stdout",
          "output_type": "stream",
          "text": [
            "Epoch: 007/010 | Train Loss: 0.6030\n"
          ]
        },
        {
          "metadata": {
            "tags": null
          },
          "name": "stderr",
          "output_type": "stream",
          "text": [
            "Evaluation: 100%|██████████| 313/313 [00:09<00:00, 33.18it/s]\n"
          ]
        },
        {
          "metadata": {
            "tags": null
          },
          "name": "stdout",
          "output_type": "stream",
          "text": [
            "Epoch: 007/010 | Eval Acc: 78.790% | Eval Loss: 0.6038\n",
            "Time elapsed: 21.55 min\n"
          ]
        },
        {
          "metadata": {
            "tags": null
          },
          "name": "stderr",
          "output_type": "stream",
          "text": [
            "Training: 100%|██████████| 1563/1563 [02:53<00:00,  9.01it/s]\n"
          ]
        },
        {
          "metadata": {
            "tags": null
          },
          "name": "stdout",
          "output_type": "stream",
          "text": [
            "Epoch: 008/010 | Train Loss: 0.5485\n"
          ]
        },
        {
          "metadata": {
            "tags": null
          },
          "name": "stderr",
          "output_type": "stream",
          "text": [
            "Evaluation: 100%|██████████| 313/313 [00:09<00:00, 33.40it/s]\n"
          ]
        },
        {
          "metadata": {
            "tags": null
          },
          "name": "stdout",
          "output_type": "stream",
          "text": [
            "Epoch: 008/010 | Eval Acc: 80.660% | Eval Loss: 0.5616\n",
            "Time elapsed: 24.60 min\n"
          ]
        },
        {
          "metadata": {
            "tags": null
          },
          "name": "stderr",
          "output_type": "stream",
          "text": [
            "Training: 100%|██████████| 1563/1563 [02:53<00:00,  9.01it/s]\n"
          ]
        },
        {
          "metadata": {
            "tags": null
          },
          "name": "stdout",
          "output_type": "stream",
          "text": [
            "Epoch: 009/010 | Train Loss: 0.5038\n"
          ]
        },
        {
          "metadata": {
            "tags": null
          },
          "name": "stderr",
          "output_type": "stream",
          "text": [
            "Evaluation: 100%|██████████| 313/313 [00:09<00:00, 33.32it/s]\n"
          ]
        },
        {
          "metadata": {
            "tags": null
          },
          "name": "stdout",
          "output_type": "stream",
          "text": [
            "Epoch: 009/010 | Eval Acc: 82.570% | Eval Loss: 0.5254\n",
            "Time elapsed: 27.65 min\n"
          ]
        },
        {
          "output_type": "stream",
          "name": "stderr",
          "text": [
            "Training: 100%|██████████| 1563/1563 [02:53<00:00,  9.01it/s]\n"
          ]
        },
        {
          "output_type": "stream",
          "name": "stdout",
          "text": [
            "Epoch: 010/010 | Train Loss: 0.4545\n"
          ]
        },
        {
          "output_type": "stream",
          "name": "stderr",
          "text": [
            "Evaluation: 100%|██████████| 313/313 [00:09<00:00, 33.28it/s]\n"
          ]
        },
        {
          "output_type": "stream",
          "name": "stdout",
          "text": [
            "Epoch: 010/010 | Eval Acc: 78.400% | Eval Loss: 0.6333\n",
            "Time elapsed: 30.70 min\n",
            "Total Training Time: 30.70 min\n"
          ]
        }
      ]
    },
    {
      "cell_type": "code",
      "source": [
        "pd.DataFrame(format_result(train_loss_resnet, eval_acc_resnet, eval_loss_resnet)).to_csv('data/resnet_performance.csv')"
      ],
      "metadata": {
        "id": "zfsT8HtDhxj-"
      },
      "execution_count": null,
      "outputs": []
    },
    {
      "cell_type": "markdown",
      "source": [
        "## Plotting"
      ],
      "metadata": {
        "id": "gzVe368OetKy"
      }
    },
    {
      "cell_type": "code",
      "source": [
        "resnet_performance = pd.read_csv('data/resnet_performance.csv')\n",
        "\n",
        "plt.figure()\n",
        "plt.plot(resnet_performance[\"training loss\"], \"ro-\", label=\"Train\")\n",
        "plt.plot(resnet_performance[\"eval loss\"], \"go-\", label=\"Validation\")\n",
        "plt.legend()\n",
        "plt.title(\"Loss\")\n",
        "plt.xlabel(\"Epochs\")\n",
        "plt.savefig(\"data/resnet_training_curve.png\")"
      ],
      "metadata": {
        "id": "7b2bK5IfewgF",
        "colab": {
          "base_uri": "https://localhost:8080/",
          "height": 472
        },
        "outputId": "70466eed-4191-43f7-ef44-cbbafb604211"
      },
      "execution_count": null,
      "outputs": [
        {
          "output_type": "display_data",
          "data": {
            "text/plain": [
              "<Figure size 640x480 with 1 Axes>"
            ],
            "image/png": "[encoded data removed]"
          },
          "metadata": {}
        }
      ]
    },
    {
      "cell_type": "code",
      "source": [
        "plt.figure()\n",
        "plt.plot(resnet_performance[\"eval accuracy\"], \"ro-\", label=\"Validation\")\n",
        "plt.legend()\n",
        "plt.title(\"Validation Accuracy\")\n",
        "plt.xlabel(\"Epochs\")\n",
        "plt.savefig(\"data/resnet_accuracy.png\")"
      ],
      "metadata": {
        "colab": {
          "base_uri": "https://localhost:8080/",
          "height": 472
        },
        "id": "cVuLzABnh-wx",
        "outputId": "93b91bac-78f0-4252-f27f-968a1f821825"
      },
      "execution_count": null,
      "outputs": [
        {
          "output_type": "display_data",
          "data": {
            "text/plain": [
              "<Figure size 640x480 with 1 Axes>"
            ],
            "image/png": "[encoded data removed]"
          },
          "metadata": {}
        }
      ]
    },
    {
      "cell_type": "markdown",
      "source": [
        "# Conclusion\n",
        "\n"
      ],
      "metadata": {
        "id": "ak6CIm8_aqj7"
      }
    },
    {
      "cell_type": "markdown",
      "source": [
        "## Compare the plotting charts"
      ],
      "metadata": {
        "id": "IeJx9mSae5_Y"
      }
    },
    {
      "cell_type": "code",
      "source": [
        "# To get plotting, run from this cell, no need to run above cells\n",
        "\n",
        "%mkdir -p /content/csc413/final/data\n",
        "%cd /content/csc413/final\n",
        "\n",
        "# Import matplotlib for plotting\n",
        "import matplotlib\n",
        "import matplotlib.pyplot as plt\n",
        "\n",
        "import pandas as pd\n",
        "\n",
        "lenet_performance = pd.read_csv('data/lenet_performance.csv').iloc[: , 1:]\n",
        "alexnet_performance = pd.read_csv('data/alexnet_performance.csv').iloc[: , 1:]\n",
        "vgg_performance = pd.read_csv('data/vgg_performance.csv')\n",
        "resnet_performance = pd.read_csv('data/resnet_performance.csv')"
      ],
      "metadata": {
        "id": "MGvmG8Zae_Tk",
        "colab": {
          "base_uri": "https://localhost:8080/"
        },
        "outputId": "5b3c757d-6170-4a80-94d3-019036c58fa7"
      },
      "execution_count": null,
      "outputs": [
        {
          "output_type": "stream",
          "name": "stdout",
          "text": [
            "/content/csc413/final\n"
          ]
        }
      ]
    },
    {
      "cell_type": "code",
      "source": [
        "# [0] = train loss, [1] = acc, [2] = eval loss\n",
        "lenet_performance.head()\n"
      ],
      "metadata": {
        "colab": {
          "base_uri": "https://localhost:8080/",
          "height": 205
        },
        "id": "xibkxsJvSsmE",
        "outputId": "219c524c-a17a-4fe9-ca9b-4264c2fe9d02"
      },
      "execution_count": null,
      "outputs": [
        {
          "output_type": "execute_result",
          "data": {
            "text/plain": [
              "                                  0                                 1  \\\n",
              "0                    tensor(1.3456)                    tensor(1.0096)   \n",
              "1  tensor(53.0500, device='cuda:0')  tensor(61.4600, device='cuda:0')   \n",
              "2                    tensor(1.3371)                    tensor(1.0870)   \n",
              "\n",
              "                                  2                                 3  \\\n",
              "0                    tensor(0.8519)                    tensor(0.7517)   \n",
              "1  tensor(68.1400, device='cuda:0')  tensor(70.5700, device='cuda:0')   \n",
              "2                    tensor(0.9411)                    tensor(0.8531)   \n",
              "\n",
              "                                  4                                 5  \\\n",
              "0                    tensor(0.6680)                    tensor(0.5953)   \n",
              "1  tensor(69.4800, device='cuda:0')  tensor(69.9300, device='cuda:0')   \n",
              "2                    tensor(0.8756)                    tensor(0.9307)   \n",
              "\n",
              "                                  6                                 7  \\\n",
              "0                    tensor(0.5312)                    tensor(0.4713)   \n",
              "1  tensor(71.7700, device='cuda:0')  tensor(72.0200, device='cuda:0')   \n",
              "2                    tensor(0.8679)                    tensor(0.9012)   \n",
              "\n",
              "                                  8                                 9  \n",
              "0                    tensor(0.4166)                    tensor(0.3690)  \n",
              "1  tensor(70.1700, device='cuda:0')  tensor(73.2700, device='cuda:0')  \n",
              "2                    tensor(1.0120)                    tensor(0.9116)  "
            ],
            "text/html": [
              "\n",
              "  <div id=\"df-93ff1ff0-a5db-43b6-9854-0f2c15cffeef\">\n",
              "    <div class=\"colab-df-container\">\n",
              "      <div>\n",
              "<style scoped>\n",
              "    .dataframe tbody tr th:only-of-type {\n",
              "        vertical-align: middle;\n",
              "    }\n",
              "\n",
              "    .dataframe tbody tr th {\n",
              "        vertical-align: top;\n",
              "    }\n",
              "\n",
              "    .dataframe thead th {\n",
              "        text-align: right;\n",
              "    }\n",
              "</style>\n",
              "<table border=\"1\" class=\"dataframe\">\n",
              "  <thead>\n",
              "    <tr style=\"text-align: right;\">\n",
              "      <th></th>\n",
              "      <th>0</th>\n",
              "      <th>1</th>\n",
              "      <th>2</th>\n",
              "      <th>3</th>\n",
              "      <th>4</th>\n",
              "      <th>5</th>\n",
              "      <th>6</th>\n",
              "      <th>7</th>\n",
              "      <th>8</th>\n",
              "      <th>9</th>\n",
              "    </tr>\n",
              "  </thead>\n",
              "  <tbody>\n",
              "    <tr>\n",
              "      <th>0</th>\n",
              "      <td>tensor(1.3456)</td>\n",
              "      <td>tensor(1.0096)</td>\n",
              "      <td>tensor(0.8519)</td>\n",
              "      <td>tensor(0.7517)</td>\n",
              "      <td>tensor(0.6680)</td>\n",
              "      <td>tensor(0.5953)</td>\n",
              "      <td>tensor(0.5312)</td>\n",
              "      <td>tensor(0.4713)</td>\n",
              "      <td>tensor(0.4166)</td>\n",
              "      <td>tensor(0.3690)</td>\n",
              "    </tr>\n",
              "    <tr>\n",
              "      <th>1</th>\n",
              "      <td>tensor(53.0500, device='cuda:0')</td>\n",
              "      <td>tensor(61.4600, device='cuda:0')</td>\n",
              "      <td>tensor(68.1400, device='cuda:0')</td>\n",
              "      <td>tensor(70.5700, device='cuda:0')</td>\n",
              "      <td>tensor(69.4800, device='cuda:0')</td>\n",
              "      <td>tensor(69.9300, device='cuda:0')</td>\n",
              "      <td>tensor(71.7700, device='cuda:0')</td>\n",
              "      <td>tensor(72.0200, device='cuda:0')</td>\n",
              "      <td>tensor(70.1700, device='cuda:0')</td>\n",
              "      <td>tensor(73.2700, device='cuda:0')</td>\n",
              "    </tr>\n",
              "    <tr>\n",
              "      <th>2</th>\n",
              "      <td>tensor(1.3371)</td>\n",
              "      <td>tensor(1.0870)</td>\n",
              "      <td>tensor(0.9411)</td>\n",
              "      <td>tensor(0.8531)</td>\n",
              "      <td>tensor(0.8756)</td>\n",
              "      <td>tensor(0.9307)</td>\n",
              "      <td>tensor(0.8679)</td>\n",
              "      <td>tensor(0.9012)</td>\n",
              "      <td>tensor(1.0120)</td>\n",
              "      <td>tensor(0.9116)</td>\n",
              "    </tr>\n",
              "  </tbody>\n",
              "</table>\n",
              "</div>\n",
              "      <button class=\"colab-df-convert\" onclick=\"convertToInteractive('df-93ff1ff0-a5db-43b6-9854-0f2c15cffeef')\"\n",
              "              title=\"Convert this dataframe to an interactive table.\"\n",
              "              style=\"display:none;\">\n",
              "        \n",
              "  <svg xmlns=\"http://www.w3.org/2000/svg\" height=\"24px\"viewBox=\"0 0 24 24\"\n",
              "       width=\"24px\">\n",
              "    <path d=\"M0 0h24v24H0V0z\" fill=\"none\"/>\n",
              "    <path d=\"M18.56 5.44l.94 2.06.94-2.06 2.06-.94-2.06-.94-.94-2.06-.94 2.06-2.06.94zm-11 1L8.5 8.5l.94-2.06 2.06-.94-2.06-.94L8.5 2.5l-.94 2.06-2.06.94zm10 10l.94 2.06.94-2.06 2.06-.94-2.06-.94-.94-2.06-.94 2.06-2.06.94z\"/><path d=\"M17.41 7.96l-1.37-1.37c-.4-.4-.92-.59-1.43-.59-.52 0-1.04.2-1.43.59L10.3 9.45l-7.72 7.72c-.78.78-.78 2.05 0 2.83L4 21.41c.39.39.9.59 1.41.59.51 0 1.02-.2 1.41-.59l7.78-7.78 2.81-2.81c.8-.78.8-2.07 0-2.86zM5.41 20L4 18.59l7.72-7.72 1.47 1.35L5.41 20z\"/>\n",
              "  </svg>\n",
              "      </button>\n",
              "      \n",
              "  <style>\n",
              "    .colab-df-container {\n",
              "      display:flex;\n",
              "      flex-wrap:wrap;\n",
              "      gap: 12px;\n",
              "    }\n",
              "\n",
              "    .colab-df-convert {\n",
              "      background-color: #E8F0FE;\n",
              "      border: none;\n",
              "      border-radius: 50%;\n",
              "      cursor: pointer;\n",
              "      display: none;\n",
              "      fill: #1967D2;\n",
              "      height: 32px;\n",
              "      padding: 0 0 0 0;\n",
              "      width: 32px;\n",
              "    }\n",
              "\n",
              "    .colab-df-convert:hover {\n",
              "      background-color: #E2EBFA;\n",
              "      box-shadow: 0px 1px 2px rgba(60, 64, 67, 0.3), 0px 1px 3px 1px rgba(60, 64, 67, 0.15);\n",
              "      fill: #174EA6;\n",
              "    }\n",
              "\n",
              "    [theme=dark] .colab-df-convert {\n",
              "      background-color: #3B4455;\n",
              "      fill: #D2E3FC;\n",
              "    }\n",
              "\n",
              "    [theme=dark] .colab-df-convert:hover {\n",
              "      background-color: #434B5C;\n",
              "      box-shadow: 0px 1px 3px 1px rgba(0, 0, 0, 0.15);\n",
              "      filter: drop-shadow(0px 1px 2px rgba(0, 0, 0, 0.3));\n",
              "      fill: #FFFFFF;\n",
              "    }\n",
              "  </style>\n",
              "\n",
              "      <script>\n",
              "        const buttonEl =\n",
              "          document.querySelector('#df-93ff1ff0-a5db-43b6-9854-0f2c15cffeef button.colab-df-convert');\n",
              "        buttonEl.style.display =\n",
              "          google.colab.kernel.accessAllowed ? 'block' : 'none';\n",
              "\n",
              "        async function convertToInteractive(key) {\n",
              "          const element = document.querySelector('#df-93ff1ff0-a5db-43b6-9854-0f2c15cffeef');\n",
              "          const dataTable =\n",
              "            await google.colab.kernel.invokeFunction('convertToInteractive',\n",
              "                                                     [key], {});\n",
              "          if (!dataTable) return;\n",
              "\n",
              "          const docLinkHtml = 'Like what you see? Visit the ' +\n",
              "            '<a target=\"_blank\" href=https://colab.research.google.com/notebooks/data_table.ipynb>data table notebook</a>'\n",
              "            + ' to learn more about interactive tables.';\n",
              "          element.innerHTML = '';\n",
              "          dataTable['output_type'] = 'display_data';\n",
              "          await google.colab.output.renderOutput(dataTable, element);\n",
              "          const docLink = document.createElement('div');\n",
              "          docLink.innerHTML = docLinkHtml;\n",
              "          element.appendChild(docLink);\n",
              "        }\n",
              "      </script>\n",
              "    </div>\n",
              "  </div>\n",
              "  "
            ]
          },
          "metadata": {},
          "execution_count": 31
        }
      ]
    },
    {
      "cell_type": "code",
      "source": [
        "lenet_performance = lenet_performance.applymap(lambda x : float(x[x.find('(')+1: x.find(',')]))\n",
        "lenet_performance.head()"
      ],
      "metadata": {
        "colab": {
          "base_uri": "https://localhost:8080/",
          "height": 143
        },
        "id": "QC_S0nlnUw-W",
        "outputId": "ac82e327-338f-42bb-c2df-da46bf6342fd"
      },
      "execution_count": null,
      "outputs": [
        {
          "output_type": "execute_result",
          "data": {
            "text/plain": [
              "         0        1        2        3        4        5        6        7  \\\n",
              "0   1.3456   1.0096   0.8519   0.7517   0.6680   0.5953   0.5312   0.4713   \n",
              "1  53.0500  61.4600  68.1400  70.5700  69.4800  69.9300  71.7700  72.0200   \n",
              "2   1.3371   1.0870   0.9411   0.8531   0.8756   0.9307   0.8679   0.9012   \n",
              "\n",
              "         8        9  \n",
              "0   0.4166   0.3690  \n",
              "1  70.1700  73.2700  \n",
              "2   1.0120   0.9116  "
            ],
            "text/html": [
              "\n",
              "  <div id=\"df-14e10201-78e3-483f-81a7-6ce62aceede6\">\n",
              "    <div class=\"colab-df-container\">\n",
              "      <div>\n",
              "<style scoped>\n",
              "    .dataframe tbody tr th:only-of-type {\n",
              "        vertical-align: middle;\n",
              "    }\n",
              "\n",
              "    .dataframe tbody tr th {\n",
              "        vertical-align: top;\n",
              "    }\n",
              "\n",
              "    .dataframe thead th {\n",
              "        text-align: right;\n",
              "    }\n",
              "</style>\n",
              "<table border=\"1\" class=\"dataframe\">\n",
              "  <thead>\n",
              "    <tr style=\"text-align: right;\">\n",
              "      <th></th>\n",
              "      <th>0</th>\n",
              "      <th>1</th>\n",
              "      <th>2</th>\n",
              "      <th>3</th>\n",
              "      <th>4</th>\n",
              "      <th>5</th>\n",
              "      <th>6</th>\n",
              "      <th>7</th>\n",
              "      <th>8</th>\n",
              "      <th>9</th>\n",
              "    </tr>\n",
              "  </thead>\n",
              "  <tbody>\n",
              "    <tr>\n",
              "      <th>0</th>\n",
              "      <td>1.3456</td>\n",
              "      <td>1.0096</td>\n",
              "      <td>0.8519</td>\n",
              "      <td>0.7517</td>\n",
              "      <td>0.6680</td>\n",
              "      <td>0.5953</td>\n",
              "      <td>0.5312</td>\n",
              "      <td>0.4713</td>\n",
              "      <td>0.4166</td>\n",
              "      <td>0.3690</td>\n",
              "    </tr>\n",
              "    <tr>\n",
              "      <th>1</th>\n",
              "      <td>53.0500</td>\n",
              "      <td>61.4600</td>\n",
              "      <td>68.1400</td>\n",
              "      <td>70.5700</td>\n",
              "      <td>69.4800</td>\n",
              "      <td>69.9300</td>\n",
              "      <td>71.7700</td>\n",
              "      <td>72.0200</td>\n",
              "      <td>70.1700</td>\n",
              "      <td>73.2700</td>\n",
              "    </tr>\n",
              "    <tr>\n",
              "      <th>2</th>\n",
              "      <td>1.3371</td>\n",
              "      <td>1.0870</td>\n",
              "      <td>0.9411</td>\n",
              "      <td>0.8531</td>\n",
              "      <td>0.8756</td>\n",
              "      <td>0.9307</td>\n",
              "      <td>0.8679</td>\n",
              "      <td>0.9012</td>\n",
              "      <td>1.0120</td>\n",
              "      <td>0.9116</td>\n",
              "    </tr>\n",
              "  </tbody>\n",
              "</table>\n",
              "</div>\n",
              "      <button class=\"colab-df-convert\" onclick=\"convertToInteractive('df-14e10201-78e3-483f-81a7-6ce62aceede6')\"\n",
              "              title=\"Convert this dataframe to an interactive table.\"\n",
              "              style=\"display:none;\">\n",
              "        \n",
              "  <svg xmlns=\"http://www.w3.org/2000/svg\" height=\"24px\"viewBox=\"0 0 24 24\"\n",
              "       width=\"24px\">\n",
              "    <path d=\"M0 0h24v24H0V0z\" fill=\"none\"/>\n",
              "    <path d=\"M18.56 5.44l.94 2.06.94-2.06 2.06-.94-2.06-.94-.94-2.06-.94 2.06-2.06.94zm-11 1L8.5 8.5l.94-2.06 2.06-.94-2.06-.94L8.5 2.5l-.94 2.06-2.06.94zm10 10l.94 2.06.94-2.06 2.06-.94-2.06-.94-.94-2.06-.94 2.06-2.06.94z\"/><path d=\"M17.41 7.96l-1.37-1.37c-.4-.4-.92-.59-1.43-.59-.52 0-1.04.2-1.43.59L10.3 9.45l-7.72 7.72c-.78.78-.78 2.05 0 2.83L4 21.41c.39.39.9.59 1.41.59.51 0 1.02-.2 1.41-.59l7.78-7.78 2.81-2.81c.8-.78.8-2.07 0-2.86zM5.41 20L4 18.59l7.72-7.72 1.47 1.35L5.41 20z\"/>\n",
              "  </svg>\n",
              "      </button>\n",
              "      \n",
              "  <style>\n",
              "    .colab-df-container {\n",
              "      display:flex;\n",
              "      flex-wrap:wrap;\n",
              "      gap: 12px;\n",
              "    }\n",
              "\n",
              "    .colab-df-convert {\n",
              "      background-color: #E8F0FE;\n",
              "      border: none;\n",
              "      border-radius: 50%;\n",
              "      cursor: pointer;\n",
              "      display: none;\n",
              "      fill: #1967D2;\n",
              "      height: 32px;\n",
              "      padding: 0 0 0 0;\n",
              "      width: 32px;\n",
              "    }\n",
              "\n",
              "    .colab-df-convert:hover {\n",
              "      background-color: #E2EBFA;\n",
              "      box-shadow: 0px 1px 2px rgba(60, 64, 67, 0.3), 0px 1px 3px 1px rgba(60, 64, 67, 0.15);\n",
              "      fill: #174EA6;\n",
              "    }\n",
              "\n",
              "    [theme=dark] .colab-df-convert {\n",
              "      background-color: #3B4455;\n",
              "      fill: #D2E3FC;\n",
              "    }\n",
              "\n",
              "    [theme=dark] .colab-df-convert:hover {\n",
              "      background-color: #434B5C;\n",
              "      box-shadow: 0px 1px 3px 1px rgba(0, 0, 0, 0.15);\n",
              "      filter: drop-shadow(0px 1px 2px rgba(0, 0, 0, 0.3));\n",
              "      fill: #FFFFFF;\n",
              "    }\n",
              "  </style>\n",
              "\n",
              "      <script>\n",
              "        const buttonEl =\n",
              "          document.querySelector('#df-14e10201-78e3-483f-81a7-6ce62aceede6 button.colab-df-convert');\n",
              "        buttonEl.style.display =\n",
              "          google.colab.kernel.accessAllowed ? 'block' : 'none';\n",
              "\n",
              "        async function convertToInteractive(key) {\n",
              "          const element = document.querySelector('#df-14e10201-78e3-483f-81a7-6ce62aceede6');\n",
              "          const dataTable =\n",
              "            await google.colab.kernel.invokeFunction('convertToInteractive',\n",
              "                                                     [key], {});\n",
              "          if (!dataTable) return;\n",
              "\n",
              "          const docLinkHtml = 'Like what you see? Visit the ' +\n",
              "            '<a target=\"_blank\" href=https://colab.research.google.com/notebooks/data_table.ipynb>data table notebook</a>'\n",
              "            + ' to learn more about interactive tables.';\n",
              "          element.innerHTML = '';\n",
              "          dataTable['output_type'] = 'display_data';\n",
              "          await google.colab.output.renderOutput(dataTable, element);\n",
              "          const docLink = document.createElement('div');\n",
              "          docLink.innerHTML = docLinkHtml;\n",
              "          element.appendChild(docLink);\n",
              "        }\n",
              "      </script>\n",
              "    </div>\n",
              "  </div>\n",
              "  "
            ]
          },
          "metadata": {},
          "execution_count": 32
        }
      ]
    },
    {
      "cell_type": "code",
      "source": [
        "alexnet_performance = alexnet_performance.applymap(lambda x : float(x[x.find('(')+1: x.find(',')]))\n",
        "alexnet_performance.head()"
      ],
      "metadata": {
        "colab": {
          "base_uri": "https://localhost:8080/",
          "height": 143
        },
        "id": "HCAzVNYlVL0M",
        "outputId": "3a4af49d-1576-47f0-c6d5-013e8ce03eb5"
      },
      "execution_count": null,
      "outputs": [
        {
          "output_type": "execute_result",
          "data": {
            "text/plain": [
              "         0        1        2        3        4        5        6        7  \\\n",
              "0   1.9802   1.6009   1.3200   1.0878   0.9139   0.7879   0.7042   0.6295   \n",
              "1  37.7500  52.2900  57.1200  67.9100  71.5800  76.0200  78.5300  78.4200   \n",
              "2   1.6730   1.3962   1.2168   0.9612   0.8223   0.7104   0.6481   0.6202   \n",
              "\n",
              "         8        9  \n",
              "0   0.5702   0.5172  \n",
              "1  81.2500  79.7500  \n",
              "2   0.5642   0.6043  "
            ],
            "text/html": [
              "\n",
              "  <div id=\"df-dba5140d-a0b6-4f4e-9dcc-cdb8a27a6e22\">\n",
              "    <div class=\"colab-df-container\">\n",
              "      <div>\n",
              "<style scoped>\n",
              "    .dataframe tbody tr th:only-of-type {\n",
              "        vertical-align: middle;\n",
              "    }\n",
              "\n",
              "    .dataframe tbody tr th {\n",
              "        vertical-align: top;\n",
              "    }\n",
              "\n",
              "    .dataframe thead th {\n",
              "        text-align: right;\n",
              "    }\n",
              "</style>\n",
              "<table border=\"1\" class=\"dataframe\">\n",
              "  <thead>\n",
              "    <tr style=\"text-align: right;\">\n",
              "      <th></th>\n",
              "      <th>0</th>\n",
              "      <th>1</th>\n",
              "      <th>2</th>\n",
              "      <th>3</th>\n",
              "      <th>4</th>\n",
              "      <th>5</th>\n",
              "      <th>6</th>\n",
              "      <th>7</th>\n",
              "      <th>8</th>\n",
              "      <th>9</th>\n",
              "    </tr>\n",
              "  </thead>\n",
              "  <tbody>\n",
              "    <tr>\n",
              "      <th>0</th>\n",
              "      <td>1.9802</td>\n",
              "      <td>1.6009</td>\n",
              "      <td>1.3200</td>\n",
              "      <td>1.0878</td>\n",
              "      <td>0.9139</td>\n",
              "      <td>0.7879</td>\n",
              "      <td>0.7042</td>\n",
              "      <td>0.6295</td>\n",
              "      <td>0.5702</td>\n",
              "      <td>0.5172</td>\n",
              "    </tr>\n",
              "    <tr>\n",
              "      <th>1</th>\n",
              "      <td>37.7500</td>\n",
              "      <td>52.2900</td>\n",
              "      <td>57.1200</td>\n",
              "      <td>67.9100</td>\n",
              "      <td>71.5800</td>\n",
              "      <td>76.0200</td>\n",
              "      <td>78.5300</td>\n",
              "      <td>78.4200</td>\n",
              "      <td>81.2500</td>\n",
              "      <td>79.7500</td>\n",
              "    </tr>\n",
              "    <tr>\n",
              "      <th>2</th>\n",
              "      <td>1.6730</td>\n",
              "      <td>1.3962</td>\n",
              "      <td>1.2168</td>\n",
              "      <td>0.9612</td>\n",
              "      <td>0.8223</td>\n",
              "      <td>0.7104</td>\n",
              "      <td>0.6481</td>\n",
              "      <td>0.6202</td>\n",
              "      <td>0.5642</td>\n",
              "      <td>0.6043</td>\n",
              "    </tr>\n",
              "  </tbody>\n",
              "</table>\n",
              "</div>\n",
              "      <button class=\"colab-df-convert\" onclick=\"convertToInteractive('df-dba5140d-a0b6-4f4e-9dcc-cdb8a27a6e22')\"\n",
              "              title=\"Convert this dataframe to an interactive table.\"\n",
              "              style=\"display:none;\">\n",
              "        \n",
              "  <svg xmlns=\"http://www.w3.org/2000/svg\" height=\"24px\"viewBox=\"0 0 24 24\"\n",
              "       width=\"24px\">\n",
              "    <path d=\"M0 0h24v24H0V0z\" fill=\"none\"/>\n",
              "    <path d=\"M18.56 5.44l.94 2.06.94-2.06 2.06-.94-2.06-.94-.94-2.06-.94 2.06-2.06.94zm-11 1L8.5 8.5l.94-2.06 2.06-.94-2.06-.94L8.5 2.5l-.94 2.06-2.06.94zm10 10l.94 2.06.94-2.06 2.06-.94-2.06-.94-.94-2.06-.94 2.06-2.06.94z\"/><path d=\"M17.41 7.96l-1.37-1.37c-.4-.4-.92-.59-1.43-.59-.52 0-1.04.2-1.43.59L10.3 9.45l-7.72 7.72c-.78.78-.78 2.05 0 2.83L4 21.41c.39.39.9.59 1.41.59.51 0 1.02-.2 1.41-.59l7.78-7.78 2.81-2.81c.8-.78.8-2.07 0-2.86zM5.41 20L4 18.59l7.72-7.72 1.47 1.35L5.41 20z\"/>\n",
              "  </svg>\n",
              "      </button>\n",
              "      \n",
              "  <style>\n",
              "    .colab-df-container {\n",
              "      display:flex;\n",
              "      flex-wrap:wrap;\n",
              "      gap: 12px;\n",
              "    }\n",
              "\n",
              "    .colab-df-convert {\n",
              "      background-color: #E8F0FE;\n",
              "      border: none;\n",
              "      border-radius: 50%;\n",
              "      cursor: pointer;\n",
              "      display: none;\n",
              "      fill: #1967D2;\n",
              "      height: 32px;\n",
              "      padding: 0 0 0 0;\n",
              "      width: 32px;\n",
              "    }\n",
              "\n",
              "    .colab-df-convert:hover {\n",
              "      background-color: #E2EBFA;\n",
              "      box-shadow: 0px 1px 2px rgba(60, 64, 67, 0.3), 0px 1px 3px 1px rgba(60, 64, 67, 0.15);\n",
              "      fill: #174EA6;\n",
              "    }\n",
              "\n",
              "    [theme=dark] .colab-df-convert {\n",
              "      background-color: #3B4455;\n",
              "      fill: #D2E3FC;\n",
              "    }\n",
              "\n",
              "    [theme=dark] .colab-df-convert:hover {\n",
              "      background-color: #434B5C;\n",
              "      box-shadow: 0px 1px 3px 1px rgba(0, 0, 0, 0.15);\n",
              "      filter: drop-shadow(0px 1px 2px rgba(0, 0, 0, 0.3));\n",
              "      fill: #FFFFFF;\n",
              "    }\n",
              "  </style>\n",
              "\n",
              "      <script>\n",
              "        const buttonEl =\n",
              "          document.querySelector('#df-dba5140d-a0b6-4f4e-9dcc-cdb8a27a6e22 button.colab-df-convert');\n",
              "        buttonEl.style.display =\n",
              "          google.colab.kernel.accessAllowed ? 'block' : 'none';\n",
              "\n",
              "        async function convertToInteractive(key) {\n",
              "          const element = document.querySelector('#df-dba5140d-a0b6-4f4e-9dcc-cdb8a27a6e22');\n",
              "          const dataTable =\n",
              "            await google.colab.kernel.invokeFunction('convertToInteractive',\n",
              "                                                     [key], {});\n",
              "          if (!dataTable) return;\n",
              "\n",
              "          const docLinkHtml = 'Like what you see? Visit the ' +\n",
              "            '<a target=\"_blank\" href=https://colab.research.google.com/notebooks/data_table.ipynb>data table notebook</a>'\n",
              "            + ' to learn more about interactive tables.';\n",
              "          element.innerHTML = '';\n",
              "          dataTable['output_type'] = 'display_data';\n",
              "          await google.colab.output.renderOutput(dataTable, element);\n",
              "          const docLink = document.createElement('div');\n",
              "          docLink.innerHTML = docLinkHtml;\n",
              "          element.appendChild(docLink);\n",
              "        }\n",
              "      </script>\n",
              "    </div>\n",
              "  </div>\n",
              "  "
            ]
          },
          "metadata": {},
          "execution_count": 33
        }
      ]
    },
    {
      "cell_type": "code",
      "source": [
        "# plot train loss\n",
        "plt.figure()\n",
        "plt.plot(lenet_performance.iloc[0,:], \"ro-\", label=\"LeNet\")\n",
        "plt.plot(alexnet_performance.iloc[0,:], \"co-\", label=\"AlexNet\")\n",
        "plt.plot(vgg_performance[\"training loss\"], \"bo-\", label=\"VGG\")\n",
        "plt.plot(resnet_performance[\"training loss\"], \"go-\", label=\"ResNet\")\n",
        "plt.legend()\n",
        "plt.title(\"Training Curve of Four Architectures\")\n",
        "plt.xlabel(\"Epochs\")\n",
        "plt.savefig(\"data/all_training_curve.png\")"
      ],
      "metadata": {
        "colab": {
          "base_uri": "https://localhost:8080/",
          "height": 472
        },
        "id": "TfgQ2f89P_P4",
        "outputId": "89c3c63c-28ca-455d-b55b-c9e0d1d81f94"
      },
      "execution_count": null,
      "outputs": [
        {
          "output_type": "display_data",
          "data": {
            "text/plain": [
              "<Figure size 640x480 with 1 Axes>"
            ],
            "image/png": "[encoded data removed]"
          },
          "metadata": {}
        }
      ]
    },
    {
      "cell_type": "code",
      "source": [
        "# plot eval loss\n",
        "plt.figure()\n",
        "plt.plot(lenet_performance.iloc[2,:], \"ro-\", label=\"LeNet\")\n",
        "plt.plot(alexnet_performance.iloc[2,:], \"co-\", label=\"AlexNet\")\n",
        "plt.plot(vgg_performance[\"eval loss\"], \"bo-\", label=\"VGG\")\n",
        "plt.plot(resnet_performance[\"eval loss\"], \"go-\", label=\"ResNet\")\n",
        "plt.legend()\n",
        "plt.title(\"Eval Loss Curve of Four Architectures\")\n",
        "plt.xlabel(\"Epochs\")\n",
        "plt.savefig(\"data/all_eval_curve.png\")"
      ],
      "metadata": {
        "colab": {
          "base_uri": "https://localhost:8080/",
          "height": 472
        },
        "id": "Ptd5XFnMRO3w",
        "outputId": "4086094f-6a19-44a3-bd22-2a051cad84f5"
      },
      "execution_count": null,
      "outputs": [
        {
          "output_type": "display_data",
          "data": {
            "text/plain": [
              "<Figure size 640x480 with 1 Axes>"
            ],
            "image/png": "[encoded data removed]"
          },
          "metadata": {}
        }
      ]
    },
    {
      "cell_type": "code",
      "source": [
        "# plot accuracy\n",
        "\n",
        "# Note that lenet/alexnet acc was out of 100, while vgg and resnet was out of 1\n",
        "plt.figure()\n",
        "plt.plot(lenet_performance.apply(lambda x: x/100, axis = 0).iloc[1,:], \"ro-\", label=\"LeNet\")\n",
        "plt.plot(alexnet_performance.apply(lambda x: x/100, axis = 0).iloc[1,:], \"co-\", label=\"AlexNet\")\n",
        "plt.plot(vgg_performance[\"eval accuracy\"], \"bo-\", label=\"VGG\")\n",
        "plt.plot(resnet_performance[\"eval accuracy\"], \"go-\", label=\"ResNet\")\n",
        "plt.legend()\n",
        "plt.title(\"Accuracy Curve of Four Architectures\")\n",
        "plt.xlabel(\"Epochs\")\n",
        "plt.savefig(\"data/all_accuracy_curve.png\")"
      ],
      "metadata": {
        "colab": {
          "base_uri": "https://localhost:8080/",
          "height": 472
        },
        "id": "yEyj7TxTRgxt",
        "outputId": "6acb3abb-79af-4275-f843-c1c3ec1e0e08"
      },
      "execution_count": null,
      "outputs": [
        {
          "output_type": "display_data",
          "data": {
            "text/plain": [
              "<Figure size 640x480 with 1 Axes>"
            ],
            "image/png": "[encoded data removed]"
          },
          "metadata": {}
        }
      ]
    },
    {
      "cell_type": "markdown",
      "source": [
        "## Summary\n"
      ],
      "metadata": {
        "id": "5D4d4nHIfBRN"
      }
    },
    {
      "cell_type": "markdown",
      "source": [
        "**Note that** we used pretrained model for VGG but constructed ResNet ourselves."
      ],
      "metadata": {
        "id": "qFaFmgySfSvW"
      }
    },
    {
      "cell_type": "markdown",
      "source": [
        "# Reference:\n",
        "\n",
        " -- add paper for each architecture\n",
        "\n",
        " -- add sample paper on performance\n",
        "\n",
        " -- one text cell for each"
      ],
      "metadata": {
        "id": "0Ky4ddrScakc"
      }
    },
    {
      "cell_type": "markdown",
      "source": [
        "https://pytorch.org/tutorials/beginner/blitz/cifar10_tutorial.html"
      ],
      "metadata": {
        "id": "KK-Dgy27szmv"
      }
    },
    {
      "cell_type": "markdown",
      "source": [
        "https://www.researchgate.net/figure/Classical-CNN-Architectures-LeNet-and-AlexNet-used-to-outperform-the-state-of-the-art_fig1_351333148"
      ],
      "metadata": {
        "id": "TzCmr9mlffQV"
      }
    },
    {
      "cell_type": "markdown",
      "source": [
        "https://www.researchgate.net/figure/Performance-comparison-of-VGGNet-ResNet-LeNet-and-AlexNet-architectures_tbl2_353473901"
      ],
      "metadata": {
        "id": "EpjRS4xHffSc"
      }
    },
    {
      "cell_type": "markdown",
      "source": [
        "https://openreview.net/pdf?id=rYt0p0Um9r"
      ],
      "metadata": {
        "id": "kYpOrk9tflD2"
      }
    }
  ]
}